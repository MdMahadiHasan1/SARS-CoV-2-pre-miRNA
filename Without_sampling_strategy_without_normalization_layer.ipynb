{
  "nbformat": 4,
  "nbformat_minor": 0,
  "metadata": {
    "colab": {
      "name": "Without_sampling_strategy_without_normalization_layer.ipynb",
      "provenance": []
    },
    "kernelspec": {
      "name": "python3",
      "display_name": "Python 3"
    },
    "language_info": {
      "name": "python"
    }
  },
  "cells": [
    {
      "cell_type": "code",
      "source": [
        "import numpy as np # linear algebra\n",
        "import pandas as pd # data processing, CSV file I/O (e.g. pd.read_csv)\n",
        "import tensorflow as tf\n",
        "import matplotlib.pyplot as plt\n",
        "import seaborn as sns\n",
        "import matplotlib.patches as mpatches\n",
        "import time\n",
        "\n",
        "import collections\n",
        "from sklearn.model_selection import train_test_split\n",
        "\n",
        "from sklearn.metrics import precision_score, recall_score, f1_score, roc_auc_score, accuracy_score, classification_report\n",
        "from collections import Counter\n",
        "import warnings\n",
        "warnings.filterwarnings(\"ignore\")"
      ],
      "metadata": {
        "id": "FrFXjDmoNNNI"
      },
      "execution_count": null,
      "outputs": []
    },
    {
      "cell_type": "code",
      "source": [
        "# all the known virus miRNAs are used as positive examples\n",
        "features_virus_mirnas = pd.read_csv('/content/drive/MyDrive/features_virus_miRNAs.csv')\n",
        "\n",
        "# The negative set is composed of a random set of hsa hairpin-like sequences \n",
        "features_unlabeled_hairpins = pd.read_csv('/content/drive/MyDrive/features_unlabeled_hairpins.csv') # Hairpins from hsa genome"
      ],
      "metadata": {
        "id": "l5rxU-fMNN-8"
      },
      "execution_count": null,
      "outputs": []
    },
    {
      "cell_type": "code",
      "source": [
        "features_virus_mirnas.drop('sequence_names', inplace=True, axis=1)"
      ],
      "metadata": {
        "id": "E9FhWJvZNQ-T"
      },
      "execution_count": null,
      "outputs": []
    },
    {
      "cell_type": "code",
      "source": [
        "features_virus_mirnas['class'] = 1"
      ],
      "metadata": {
        "id": "06EBRY5fNTA2"
      },
      "execution_count": null,
      "outputs": []
    },
    {
      "cell_type": "code",
      "source": [
        "features_unlabeled_hairpins.drop('sequence_names', inplace=True, axis=1)"
      ],
      "metadata": {
        "id": "lTZaB1fSNVoI"
      },
      "execution_count": null,
      "outputs": []
    },
    {
      "cell_type": "code",
      "source": [
        "features_unlabeled_hairpins['class'] = 0"
      ],
      "metadata": {
        "id": "R1quySNmNXle"
      },
      "execution_count": null,
      "outputs": []
    },
    {
      "cell_type": "code",
      "source": [
        "da = [features_virus_mirnas, features_unlabeled_hairpins]"
      ],
      "metadata": {
        "id": "HljO4Q3_NZ-j"
      },
      "execution_count": null,
      "outputs": []
    },
    {
      "cell_type": "code",
      "source": [
        "df = pd.concat(da)\n",
        "df.head()"
      ],
      "metadata": {
        "colab": {
          "base_uri": "https://localhost:8080/",
          "height": 300
        },
        "id": "0r8H3Bx3NcuJ",
        "outputId": "d78a4ee3-3430-47f3-87f4-cbfbaecfec01"
      },
      "execution_count": null,
      "outputs": [
        {
          "output_type": "execute_result",
          "data": {
            "text/plain": [
              "    nt_proportion0   nt_proportion1   nt_proportion2   nt_proportion3  \\\n",
              "0         0.292308         0.169231         0.200000         0.338462   \n",
              "1         0.276923         0.215385         0.230769         0.276923   \n",
              "2         0.242424         0.287879         0.227273         0.242424   \n",
              "3         0.200000         0.257143         0.300000         0.242857   \n",
              "4         0.258065         0.193548         0.225806         0.322581   \n",
              "\n",
              "    dinucleotide_proportion0   dinucleotide_proportion1  \\\n",
              "0                   0.109375                   0.015625   \n",
              "1                   0.125000                   0.078125   \n",
              "2                   0.061538                   0.061538   \n",
              "3                   0.028986                   0.057971   \n",
              "4                   0.098361                   0.016393   \n",
              "\n",
              "    dinucleotide_proportion2   dinucleotide_proportion3  \\\n",
              "0                   0.078125                   0.093750   \n",
              "1                   0.046875                   0.031250   \n",
              "2                   0.061538                   0.046154   \n",
              "3                   0.057971                   0.057971   \n",
              "4                   0.049180                   0.081967   \n",
              "\n",
              "    dinucleotide_proportion4   dinucleotide_proportion5  ...    efe  \\\n",
              "0                   0.062500                   0.031250  ... -27.28   \n",
              "1                   0.078125                   0.000000  ... -23.95   \n",
              "2                   0.061538                   0.138462  ... -27.02   \n",
              "3                   0.057971                   0.072464  ... -32.11   \n",
              "4                   0.049180                   0.049180  ... -26.28   \n",
              "\n",
              "    ensemble_frequency   diversity   mfe_efe_difference        dQ        dG  \\\n",
              "0             0.457857        1.67             0.007385  0.066635 -0.412308   \n",
              "1             0.154283        5.77             0.017692  0.228730 -0.350769   \n",
              "2             0.426696        2.62             0.007879  0.107199 -0.401515   \n",
              "3             0.101080        6.03             0.020143  0.214866 -0.438571   \n",
              "4             0.639769        0.94             0.004516  0.040681 -0.419355   \n",
              "\n",
              "      mfei1     mfei2     mfei4  class  \n",
              "0 -1.116667 -0.137436 -1.072000      1  \n",
              "1 -0.786207 -0.116923 -1.036364      1  \n",
              "2 -0.779412 -0.100379 -1.204545      1  \n",
              "3 -0.787179 -0.146190 -1.228000      1  \n",
              "4 -1.000000 -0.139785 -1.238095      1  \n",
              "\n",
              "[5 rows x 74 columns]"
            ],
            "text/html": [
              "\n",
              "  <div id=\"df-0ae54d48-3008-49b5-9e05-7f79bd7d5be6\">\n",
              "    <div class=\"colab-df-container\">\n",
              "      <div>\n",
              "<style scoped>\n",
              "    .dataframe tbody tr th:only-of-type {\n",
              "        vertical-align: middle;\n",
              "    }\n",
              "\n",
              "    .dataframe tbody tr th {\n",
              "        vertical-align: top;\n",
              "    }\n",
              "\n",
              "    .dataframe thead th {\n",
              "        text-align: right;\n",
              "    }\n",
              "</style>\n",
              "<table border=\"1\" class=\"dataframe\">\n",
              "  <thead>\n",
              "    <tr style=\"text-align: right;\">\n",
              "      <th></th>\n",
              "      <th>nt_proportion0</th>\n",
              "      <th>nt_proportion1</th>\n",
              "      <th>nt_proportion2</th>\n",
              "      <th>nt_proportion3</th>\n",
              "      <th>dinucleotide_proportion0</th>\n",
              "      <th>dinucleotide_proportion1</th>\n",
              "      <th>dinucleotide_proportion2</th>\n",
              "      <th>dinucleotide_proportion3</th>\n",
              "      <th>dinucleotide_proportion4</th>\n",
              "      <th>dinucleotide_proportion5</th>\n",
              "      <th>...</th>\n",
              "      <th>efe</th>\n",
              "      <th>ensemble_frequency</th>\n",
              "      <th>diversity</th>\n",
              "      <th>mfe_efe_difference</th>\n",
              "      <th>dQ</th>\n",
              "      <th>dG</th>\n",
              "      <th>mfei1</th>\n",
              "      <th>mfei2</th>\n",
              "      <th>mfei4</th>\n",
              "      <th>class</th>\n",
              "    </tr>\n",
              "  </thead>\n",
              "  <tbody>\n",
              "    <tr>\n",
              "      <th>0</th>\n",
              "      <td>0.292308</td>\n",
              "      <td>0.169231</td>\n",
              "      <td>0.200000</td>\n",
              "      <td>0.338462</td>\n",
              "      <td>0.109375</td>\n",
              "      <td>0.015625</td>\n",
              "      <td>0.078125</td>\n",
              "      <td>0.093750</td>\n",
              "      <td>0.062500</td>\n",
              "      <td>0.031250</td>\n",
              "      <td>...</td>\n",
              "      <td>-27.28</td>\n",
              "      <td>0.457857</td>\n",
              "      <td>1.67</td>\n",
              "      <td>0.007385</td>\n",
              "      <td>0.066635</td>\n",
              "      <td>-0.412308</td>\n",
              "      <td>-1.116667</td>\n",
              "      <td>-0.137436</td>\n",
              "      <td>-1.072000</td>\n",
              "      <td>1</td>\n",
              "    </tr>\n",
              "    <tr>\n",
              "      <th>1</th>\n",
              "      <td>0.276923</td>\n",
              "      <td>0.215385</td>\n",
              "      <td>0.230769</td>\n",
              "      <td>0.276923</td>\n",
              "      <td>0.125000</td>\n",
              "      <td>0.078125</td>\n",
              "      <td>0.046875</td>\n",
              "      <td>0.031250</td>\n",
              "      <td>0.078125</td>\n",
              "      <td>0.000000</td>\n",
              "      <td>...</td>\n",
              "      <td>-23.95</td>\n",
              "      <td>0.154283</td>\n",
              "      <td>5.77</td>\n",
              "      <td>0.017692</td>\n",
              "      <td>0.228730</td>\n",
              "      <td>-0.350769</td>\n",
              "      <td>-0.786207</td>\n",
              "      <td>-0.116923</td>\n",
              "      <td>-1.036364</td>\n",
              "      <td>1</td>\n",
              "    </tr>\n",
              "    <tr>\n",
              "      <th>2</th>\n",
              "      <td>0.242424</td>\n",
              "      <td>0.287879</td>\n",
              "      <td>0.227273</td>\n",
              "      <td>0.242424</td>\n",
              "      <td>0.061538</td>\n",
              "      <td>0.061538</td>\n",
              "      <td>0.061538</td>\n",
              "      <td>0.046154</td>\n",
              "      <td>0.061538</td>\n",
              "      <td>0.138462</td>\n",
              "      <td>...</td>\n",
              "      <td>-27.02</td>\n",
              "      <td>0.426696</td>\n",
              "      <td>2.62</td>\n",
              "      <td>0.007879</td>\n",
              "      <td>0.107199</td>\n",
              "      <td>-0.401515</td>\n",
              "      <td>-0.779412</td>\n",
              "      <td>-0.100379</td>\n",
              "      <td>-1.204545</td>\n",
              "      <td>1</td>\n",
              "    </tr>\n",
              "    <tr>\n",
              "      <th>3</th>\n",
              "      <td>0.200000</td>\n",
              "      <td>0.257143</td>\n",
              "      <td>0.300000</td>\n",
              "      <td>0.242857</td>\n",
              "      <td>0.028986</td>\n",
              "      <td>0.057971</td>\n",
              "      <td>0.057971</td>\n",
              "      <td>0.057971</td>\n",
              "      <td>0.057971</td>\n",
              "      <td>0.072464</td>\n",
              "      <td>...</td>\n",
              "      <td>-32.11</td>\n",
              "      <td>0.101080</td>\n",
              "      <td>6.03</td>\n",
              "      <td>0.020143</td>\n",
              "      <td>0.214866</td>\n",
              "      <td>-0.438571</td>\n",
              "      <td>-0.787179</td>\n",
              "      <td>-0.146190</td>\n",
              "      <td>-1.228000</td>\n",
              "      <td>1</td>\n",
              "    </tr>\n",
              "    <tr>\n",
              "      <th>4</th>\n",
              "      <td>0.258065</td>\n",
              "      <td>0.193548</td>\n",
              "      <td>0.225806</td>\n",
              "      <td>0.322581</td>\n",
              "      <td>0.098361</td>\n",
              "      <td>0.016393</td>\n",
              "      <td>0.049180</td>\n",
              "      <td>0.081967</td>\n",
              "      <td>0.049180</td>\n",
              "      <td>0.049180</td>\n",
              "      <td>...</td>\n",
              "      <td>-26.28</td>\n",
              "      <td>0.639769</td>\n",
              "      <td>0.94</td>\n",
              "      <td>0.004516</td>\n",
              "      <td>0.040681</td>\n",
              "      <td>-0.419355</td>\n",
              "      <td>-1.000000</td>\n",
              "      <td>-0.139785</td>\n",
              "      <td>-1.238095</td>\n",
              "      <td>1</td>\n",
              "    </tr>\n",
              "  </tbody>\n",
              "</table>\n",
              "<p>5 rows × 74 columns</p>\n",
              "</div>\n",
              "      <button class=\"colab-df-convert\" onclick=\"convertToInteractive('df-0ae54d48-3008-49b5-9e05-7f79bd7d5be6')\"\n",
              "              title=\"Convert this dataframe to an interactive table.\"\n",
              "              style=\"display:none;\">\n",
              "        \n",
              "  <svg xmlns=\"http://www.w3.org/2000/svg\" height=\"24px\"viewBox=\"0 0 24 24\"\n",
              "       width=\"24px\">\n",
              "    <path d=\"M0 0h24v24H0V0z\" fill=\"none\"/>\n",
              "    <path d=\"M18.56 5.44l.94 2.06.94-2.06 2.06-.94-2.06-.94-.94-2.06-.94 2.06-2.06.94zm-11 1L8.5 8.5l.94-2.06 2.06-.94-2.06-.94L8.5 2.5l-.94 2.06-2.06.94zm10 10l.94 2.06.94-2.06 2.06-.94-2.06-.94-.94-2.06-.94 2.06-2.06.94z\"/><path d=\"M17.41 7.96l-1.37-1.37c-.4-.4-.92-.59-1.43-.59-.52 0-1.04.2-1.43.59L10.3 9.45l-7.72 7.72c-.78.78-.78 2.05 0 2.83L4 21.41c.39.39.9.59 1.41.59.51 0 1.02-.2 1.41-.59l7.78-7.78 2.81-2.81c.8-.78.8-2.07 0-2.86zM5.41 20L4 18.59l7.72-7.72 1.47 1.35L5.41 20z\"/>\n",
              "  </svg>\n",
              "      </button>\n",
              "      \n",
              "  <style>\n",
              "    .colab-df-container {\n",
              "      display:flex;\n",
              "      flex-wrap:wrap;\n",
              "      gap: 12px;\n",
              "    }\n",
              "\n",
              "    .colab-df-convert {\n",
              "      background-color: #E8F0FE;\n",
              "      border: none;\n",
              "      border-radius: 50%;\n",
              "      cursor: pointer;\n",
              "      display: none;\n",
              "      fill: #1967D2;\n",
              "      height: 32px;\n",
              "      padding: 0 0 0 0;\n",
              "      width: 32px;\n",
              "    }\n",
              "\n",
              "    .colab-df-convert:hover {\n",
              "      background-color: #E2EBFA;\n",
              "      box-shadow: 0px 1px 2px rgba(60, 64, 67, 0.3), 0px 1px 3px 1px rgba(60, 64, 67, 0.15);\n",
              "      fill: #174EA6;\n",
              "    }\n",
              "\n",
              "    [theme=dark] .colab-df-convert {\n",
              "      background-color: #3B4455;\n",
              "      fill: #D2E3FC;\n",
              "    }\n",
              "\n",
              "    [theme=dark] .colab-df-convert:hover {\n",
              "      background-color: #434B5C;\n",
              "      box-shadow: 0px 1px 3px 1px rgba(0, 0, 0, 0.15);\n",
              "      filter: drop-shadow(0px 1px 2px rgba(0, 0, 0, 0.3));\n",
              "      fill: #FFFFFF;\n",
              "    }\n",
              "  </style>\n",
              "\n",
              "      <script>\n",
              "        const buttonEl =\n",
              "          document.querySelector('#df-0ae54d48-3008-49b5-9e05-7f79bd7d5be6 button.colab-df-convert');\n",
              "        buttonEl.style.display =\n",
              "          google.colab.kernel.accessAllowed ? 'block' : 'none';\n",
              "\n",
              "        async function convertToInteractive(key) {\n",
              "          const element = document.querySelector('#df-0ae54d48-3008-49b5-9e05-7f79bd7d5be6');\n",
              "          const dataTable =\n",
              "            await google.colab.kernel.invokeFunction('convertToInteractive',\n",
              "                                                     [key], {});\n",
              "          if (!dataTable) return;\n",
              "\n",
              "          const docLinkHtml = 'Like what you see? Visit the ' +\n",
              "            '<a target=\"_blank\" href=https://colab.research.google.com/notebooks/data_table.ipynb>data table notebook</a>'\n",
              "            + ' to learn more about interactive tables.';\n",
              "          element.innerHTML = '';\n",
              "          dataTable['output_type'] = 'display_data';\n",
              "          await google.colab.output.renderOutput(dataTable, element);\n",
              "          const docLink = document.createElement('div');\n",
              "          docLink.innerHTML = docLinkHtml;\n",
              "          element.appendChild(docLink);\n",
              "        }\n",
              "      </script>\n",
              "    </div>\n",
              "  </div>\n",
              "  "
            ]
          },
          "metadata": {},
          "execution_count": 10
        }
      ]
    },
    {
      "cell_type": "code",
      "source": [
        "df.fillna(value=0, inplace = True)"
      ],
      "metadata": {
        "id": "q1dbvFlHNexL"
      },
      "execution_count": null,
      "outputs": []
    },
    {
      "cell_type": "code",
      "source": [
        "df.isnull().sum().max()"
      ],
      "metadata": {
        "colab": {
          "base_uri": "https://localhost:8080/"
        },
        "id": "LQWVXg44Nhlu",
        "outputId": "3f84564c-b853-41ba-83cb-6d84ca712acb"
      },
      "execution_count": null,
      "outputs": [
        {
          "output_type": "execute_result",
          "data": {
            "text/plain": [
              "0"
            ]
          },
          "metadata": {},
          "execution_count": 12
        }
      ]
    },
    {
      "cell_type": "code",
      "source": [
        "X = df.iloc[:,:-1]\n",
        "y = df.iloc[:,73]"
      ],
      "metadata": {
        "id": "ZjdhDMzPNmNI"
      },
      "execution_count": null,
      "outputs": []
    },
    {
      "cell_type": "code",
      "source": [
        "from sklearn.preprocessing import StandardScaler, LabelEncoder\n",
        "en = LabelEncoder()\n",
        "en_y = en.fit_transform(y)\n",
        "\n",
        "F_y = tf.keras.utils.to_categorical(en_y)"
      ],
      "metadata": {
        "id": "CQEHQApSOHhX"
      },
      "execution_count": null,
      "outputs": []
    },
    {
      "cell_type": "code",
      "source": [
        "seed = 7\n",
        "np.random.seed(seed)\n",
        "x_train,x_test,y_train,y_test = train_test_split(X,F_y,test_size=0.20,random_state=seed,stratify=en_y,shuffle=True)\n",
        "st = StandardScaler()\n",
        "st_xtrain = st.fit_transform(x_train)\n",
        "st_xtest = st.fit_transform(x_test)"
      ],
      "metadata": {
        "id": "kQNvMcLBOLDi"
      },
      "execution_count": null,
      "outputs": []
    },
    {
      "cell_type": "code",
      "source": [
        "AN = tf.keras.models.Sequential()\n",
        "AN.add(tf.keras.layers.Dense(1024, input_dim=73, activation=tf.nn.relu))\n",
        "AN.add(tf.keras.layers.Dense(512, activation=tf.nn.relu))\n",
        "AN.add(tf.keras.layers.Dense(512, activation=tf.nn.relu))\n",
        "AN.add(tf.keras.layers.Dense(256, activation=tf.nn.relu))\n",
        "AN.add(tf.keras.layers.Dense(256, activation=tf.nn.relu))\n",
        "AN.add(tf.keras.layers.Dense(128, activation=tf.nn.relu))\n",
        "AN.add(tf.keras.layers.Dense(128, activation=tf.nn.relu))\n",
        "AN.add(tf.keras.layers.Dense(64, activation=tf.nn.relu))\n",
        "AN.add(tf.keras.layers.Dense(64, activation=tf.nn.relu))\n",
        "AN.add(tf.keras.layers.Dense(32, activation=tf.nn.relu))\n",
        "AN.add(tf.keras.layers.Dense(16, activation=tf.nn.relu))\n",
        "AN.add(tf.keras.layers.Dense(16, activation=tf.nn.relu))\n",
        "AN.add(tf.keras.layers.Dense(2, activation=tf.nn.sigmoid))"
      ],
      "metadata": {
        "colab": {
          "base_uri": "https://localhost:8080/"
        },
        "id": "KsJ3NuBBOOyj",
        "outputId": "a620ff4f-b124-4eef-f86b-29172e0fcd80"
      },
      "execution_count": null,
      "outputs": [
        {
          "output_type": "stream",
          "name": "stdout",
          "text": [
            "WARNING:tensorflow:From /usr/local/lib/python3.7/dist-packages/tensorflow_core/python/ops/resource_variable_ops.py:1630: calling BaseResourceVariable.__init__ (from tensorflow.python.ops.resource_variable_ops) with constraint is deprecated and will be removed in a future version.\n",
            "Instructions for updating:\n",
            "If using Keras pass *_constraint arguments to layers.\n"
          ]
        }
      ]
    },
    {
      "cell_type": "code",
      "source": [
        "AN.compile(optimizer='adam', loss='binary_crossentropy', metrics=['accuracy'])\n",
        "\n",
        "history = AN.fit(st_xtrain, y_train,validation_data=(st_xtest,y_test),epochs=10, batch_size=2024)"
      ],
      "metadata": {
        "colab": {
          "base_uri": "https://localhost:8080/"
        },
        "id": "6EoKrfnJOdMT",
        "outputId": "c8ef6e34-4c2a-4084-93c8-015978b413bf"
      },
      "execution_count": null,
      "outputs": [
        {
          "output_type": "stream",
          "name": "stdout",
          "text": [
            "Train on 800365 samples, validate on 200092 samples\n",
            "Epoch 1/10\n",
            "800365/800365 [==============================] - 104s 130us/sample - loss: 0.0033 - acc: 0.9994 - val_loss: 0.0027 - val_acc: 0.9994\n",
            "Epoch 2/10\n",
            "800365/800365 [==============================] - 103s 128us/sample - loss: 0.0025 - acc: 0.9994 - val_loss: 0.0026 - val_acc: 0.9994\n",
            "Epoch 3/10\n",
            "800365/800365 [==============================] - 103s 129us/sample - loss: 0.0021 - acc: 0.9994 - val_loss: 0.0031 - val_acc: 0.9995\n",
            "Epoch 4/10\n",
            "800365/800365 [==============================] - 103s 129us/sample - loss: 0.0019 - acc: 0.9995 - val_loss: 0.0026 - val_acc: 0.9995\n",
            "Epoch 5/10\n",
            "800365/800365 [==============================] - 103s 129us/sample - loss: 0.0017 - acc: 0.9995 - val_loss: 0.0024 - val_acc: 0.9995\n",
            "Epoch 6/10\n",
            "800365/800365 [==============================] - 101s 126us/sample - loss: 0.0015 - acc: 0.9996 - val_loss: 0.0026 - val_acc: 0.9995\n",
            "Epoch 7/10\n",
            "800365/800365 [==============================] - 103s 128us/sample - loss: 0.0015 - acc: 0.9996 - val_loss: 0.0028 - val_acc: 0.9995\n",
            "Epoch 8/10\n",
            "800365/800365 [==============================] - 103s 128us/sample - loss: 0.0012 - acc: 0.9997 - val_loss: 0.0025 - val_acc: 0.9995\n",
            "Epoch 9/10\n",
            "800365/800365 [==============================] - 112s 140us/sample - loss: 0.0010 - acc: 0.9997 - val_loss: 0.0037 - val_acc: 0.9995\n",
            "Epoch 10/10\n",
            "800365/800365 [==============================] - 123s 154us/sample - loss: 0.0012 - acc: 0.9997 - val_loss: 0.0033 - val_acc: 0.9995\n"
          ]
        }
      ]
    },
    {
      "cell_type": "code",
      "source": [
        "AN.evaluate(st_xtest,y_test)"
      ],
      "metadata": {
        "colab": {
          "base_uri": "https://localhost:8080/"
        },
        "id": "JJpEYNfESQMc",
        "outputId": "31149580-ee87-4a35-e81c-9da6adf1070a"
      },
      "execution_count": null,
      "outputs": [
        {
          "output_type": "stream",
          "name": "stdout",
          "text": [
            "200092/200092 [==============================] - 22s 111us/sample - loss: 0.0033 - acc: 0.9995\n"
          ]
        },
        {
          "output_type": "execute_result",
          "data": {
            "text/plain": [
              "[0.0032876404187045785, 0.99947774]"
            ]
          },
          "metadata": {},
          "execution_count": 19
        }
      ]
    },
    {
      "cell_type": "code",
      "source": [
        "plt.plot(history.history['acc'])\n",
        "plt.plot(history.history['val_acc'])\n",
        "plt.title('Without Normalization Model Accuracy')\n",
        "plt.ylabel('acuuracy')\n",
        "plt.xlabel('epoch')\n",
        "plt.legend(['train', 'test'], loc='upper left')\n",
        "plt.show()"
      ],
      "metadata": {
        "colab": {
          "base_uri": "https://localhost:8080/",
          "height": 295
        },
        "id": "03YkOJ76STmw",
        "outputId": "72020dbe-e822-41a1-d33c-25e8e4d4c13f"
      },
      "execution_count": null,
      "outputs": [
        {
          "output_type": "display_data",
          "data": {
            "text/plain": [
              "<Figure size 432x288 with 1 Axes>"
            ],
            "image/png": "[encoded data removed]"
          },
          "metadata": {
            "needs_background": "light"
          }
        }
      ]
    },
    {
      "cell_type": "code",
      "source": [
        "plt.plot(history.history['loss'])\n",
        "plt.plot(history.history['val_loss'])\n",
        "plt.title('Without Normalization Model Loss')\n",
        "plt.ylabel('loss')\n",
        "plt.xlabel('epoch')\n",
        "plt.legend(['train', 'test'], loc='upper left')\n",
        "plt.show()"
      ],
      "metadata": {
        "colab": {
          "base_uri": "https://localhost:8080/",
          "height": 295
        },
        "id": "pFe_KQmgSUTd",
        "outputId": "444180b1-fb78-472c-8e07-2e8f6ec01109"
      },
      "execution_count": null,
      "outputs": [
        {
          "output_type": "display_data",
          "data": {
            "text/plain": [
              "<Figure size 432x288 with 1 Axes>"
            ],
            "image/png": "[encoded data removed]"
          },
          "metadata": {
            "needs_background": "light"
          }
        }
      ]
    },
    {
      "cell_type": "code",
      "source": [
        "ownpredictions = AN.predict(st_xtest)"
      ],
      "metadata": {
        "id": "dtgOhWRgSXdZ"
      },
      "execution_count": null,
      "outputs": []
    },
    {
      "cell_type": "code",
      "source": [
        "from sklearn.metrics import confusion_matrix\n",
        "\n",
        "ocm=confusion_matrix(y_test.argmax(axis=1),ownpredictions.argmax(axis=1))\n",
        "plt.title('Without Normalization Model Confusion Matrix')\n",
        "sns.heatmap(ocm,annot=True,fmt=\"d\")"
      ],
      "metadata": {
        "colab": {
          "base_uri": "https://localhost:8080/",
          "height": 298
        },
        "id": "H5sDh8rJScGQ",
        "outputId": "dafbf697-9e80-4d55-dc21-8c94f7f57806"
      },
      "execution_count": null,
      "outputs": [
        {
          "output_type": "execute_result",
          "data": {
            "text/plain": [
              "<matplotlib.axes._subplots.AxesSubplot at 0x7f07dbba69d0>"
            ]
          },
          "metadata": {},
          "execution_count": 24
        },
        {
          "output_type": "display_data",
          "data": {
            "text/plain": [
              "<Figure size 432x288 with 2 Axes>"
            ],
            "image/png": "[encoded data removed]"
          },
          "metadata": {
            "needs_background": "light"
          }
        }
      ]
    },
    {
      "cell_type": "code",
      "source": [
        "from sklearn.metrics import matthews_corrcoef,cohen_kappa_score,hamming_loss\n",
        "from sklearn import metrics\n",
        "print(\"matthews_corrcoef\",matthews_corrcoef(y_test.argmax(axis=1), ownpredictions.argmax(axis=1)))\n",
        "print(\"cohen_kappa_score\",cohen_kappa_score(y_test.argmax(axis=1), ownpredictions.argmax(axis=1)))\n",
        "print(\"hamming_loss_score\",hamming_loss(y_test.argmax(axis=1), ownpredictions.argmax(axis=1)))\n",
        "print(\"Precision_score\", metrics.precision_score(y_test.argmax(axis=1), ownpredictions.argmax(axis=1)))\n",
        "print(\"Pecall_score\",metrics.recall_score(y_test.argmax(axis=1), ownpredictions.argmax(axis=1)))\n",
        "print(\"F1_score\",metrics.f1_score(y_test.argmax(axis=1), ownpredictions.argmax(axis=1)))\n",
        "print(\"Accuracy_score\",metrics.accuracy_score(y_test.argmax(axis=1), ownpredictions.argmax(axis=1)))\n",
        "print(\"Roc_auc_score\",metrics.roc_auc_score(y_test.argmax(axis=1),ownpredictions.argmax(axis=1)))\n",
        "print(\"Fbeta_score\",metrics.fbeta_score(y_test.argmax(axis=1), ownpredictions.argmax(axis=1), beta=0.5))\n",
        "print(\"Fbeta_score\",metrics.fbeta_score(y_test.argmax(axis=1), ownpredictions.argmax(axis=1), beta=1))\n",
        "print(\"Fbeta_score\",metrics.fbeta_score(y_test.argmax(axis=1), ownpredictions.argmax(axis=1), beta=2))"
      ],
      "metadata": {
        "colab": {
          "base_uri": "https://localhost:8080/"
        },
        "id": "V1mHIPhaSrNI",
        "outputId": "48864853-f2ab-4346-b080-c5bbb0f89117"
      },
      "execution_count": null,
      "outputs": [
        {
          "output_type": "stream",
          "name": "stdout",
          "text": [
            "matthews_corrcoef 0.4784523070846144\n",
            "cohen_kappa_score 0.47154474296472526\n",
            "hamming_loss_score 0.000514763208923895\n",
            "Precision_score 0.5679012345679012\n",
            "Pecall_score 0.40350877192982454\n",
            "F1_score 0.47179487179487173\n",
            "Accuracy_score 0.9994852367910761\n",
            "Roc_auc_score 0.7016668763388534\n",
            "Fbeta_score 0.5251141552511415\n",
            "Fbeta_score 0.47179487179487173\n",
            "Fbeta_score 0.4283054003724394\n"
          ]
        }
      ]
    }
  ]
}