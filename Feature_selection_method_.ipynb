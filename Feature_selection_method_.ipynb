{
  "nbformat": 4,
  "nbformat_minor": 0,
  "metadata": {
    "colab": {
      "name": "Feature selection method .ipynb",
      "provenance": [],
      "collapsed_sections": []
    },
    "kernelspec": {
      "name": "python3",
      "display_name": "Python 3"
    },
    "language_info": {
      "name": "python"
    }
  },
  "cells": [
    {
      "cell_type": "code",
      "execution_count": 2,
      "metadata": {
        "id": "FC19_JGJlyc1"
      },
      "outputs": [],
      "source": [
        "import numpy as np # linear algebra\n",
        "import pandas as pd # data processing, CSV file I/O (e.g. pd.read_csv)\n",
        "import tensorflow as tf\n",
        "import matplotlib.pyplot as plt\n",
        "import seaborn as sns\n",
        "from sklearn.manifold import TSNE\n",
        "from sklearn.decomposition import PCA, TruncatedSVD\n",
        "import matplotlib.patches as mpatches\n",
        "import time\n",
        "\n",
        "from sklearn.linear_model import LogisticRegression\n",
        "from sklearn.svm import SVC\n",
        "from sklearn.neighbors import KNeighborsClassifier\n",
        "from sklearn.ensemble import RandomForestClassifier\n",
        "import collections"
      ]
    },
    {
      "cell_type": "code",
      "source": [
        "features_virus_mirnas = pd.read_csv('/content/drive/MyDrive/features_virus_miRNAs.csv')\n",
        "\n",
        "# The negative set is composed of a random set of hsa hairpin-like sequences \n",
        "features_unlabeled_hairpins = pd.read_csv('/content/drive/MyDrive/features_unlabeled_hairpins.csv')"
      ],
      "metadata": {
        "id": "8tZ1o323l6B4"
      },
      "execution_count": 3,
      "outputs": []
    },
    {
      "cell_type": "code",
      "source": [
        "features_virus_mirnas.drop('sequence_names', inplace=True, axis=1)"
      ],
      "metadata": {
        "id": "4mlw0sCxmGLN"
      },
      "execution_count": 4,
      "outputs": []
    },
    {
      "cell_type": "code",
      "source": [
        "features_virus_mirnas['class'] = 1"
      ],
      "metadata": {
        "id": "QRWvNzY_mRjp"
      },
      "execution_count": 5,
      "outputs": []
    },
    {
      "cell_type": "code",
      "source": [
        "features_unlabeled_hairpins.drop('sequence_names', inplace=True, axis=1)"
      ],
      "metadata": {
        "id": "Tqtm0pzEmVo5"
      },
      "execution_count": 6,
      "outputs": []
    },
    {
      "cell_type": "code",
      "source": [
        "features_unlabeled_hairpins['class'] = 0"
      ],
      "metadata": {
        "id": "ngrsa2mbmYyg"
      },
      "execution_count": 7,
      "outputs": []
    },
    {
      "cell_type": "code",
      "source": [
        "da = [features_virus_mirnas, features_unlabeled_hairpins]"
      ],
      "metadata": {
        "id": "JdeB8xEimcLy"
      },
      "execution_count": 8,
      "outputs": []
    },
    {
      "cell_type": "code",
      "source": [
        "df = pd.concat(da)\n",
        "df.head()"
      ],
      "metadata": {
        "colab": {
          "base_uri": "https://localhost:8080/",
          "height": 300
        },
        "id": "qSTyn1TLmhVj",
        "outputId": "f3de69f0-32b8-4d77-fc0d-d392780923db"
      },
      "execution_count": 9,
      "outputs": [
        {
          "output_type": "execute_result",
          "data": {
            "text/plain": [
              "    nt_proportion0   nt_proportion1   nt_proportion2   nt_proportion3  \\\n",
              "0         0.292308         0.169231         0.200000         0.338462   \n",
              "1         0.276923         0.215385         0.230769         0.276923   \n",
              "2         0.242424         0.287879         0.227273         0.242424   \n",
              "3         0.200000         0.257143         0.300000         0.242857   \n",
              "4         0.258065         0.193548         0.225806         0.322581   \n",
              "\n",
              "    dinucleotide_proportion0   dinucleotide_proportion1  \\\n",
              "0                   0.109375                   0.015625   \n",
              "1                   0.125000                   0.078125   \n",
              "2                   0.061538                   0.061538   \n",
              "3                   0.028986                   0.057971   \n",
              "4                   0.098361                   0.016393   \n",
              "\n",
              "    dinucleotide_proportion2   dinucleotide_proportion3  \\\n",
              "0                   0.078125                   0.093750   \n",
              "1                   0.046875                   0.031250   \n",
              "2                   0.061538                   0.046154   \n",
              "3                   0.057971                   0.057971   \n",
              "4                   0.049180                   0.081967   \n",
              "\n",
              "    dinucleotide_proportion4   dinucleotide_proportion5  ...    efe  \\\n",
              "0                   0.062500                   0.031250  ... -27.28   \n",
              "1                   0.078125                   0.000000  ... -23.95   \n",
              "2                   0.061538                   0.138462  ... -27.02   \n",
              "3                   0.057971                   0.072464  ... -32.11   \n",
              "4                   0.049180                   0.049180  ... -26.28   \n",
              "\n",
              "    ensemble_frequency   diversity   mfe_efe_difference        dQ        dG  \\\n",
              "0             0.457857        1.67             0.007385  0.066635 -0.412308   \n",
              "1             0.154283        5.77             0.017692  0.228730 -0.350769   \n",
              "2             0.426696        2.62             0.007879  0.107199 -0.401515   \n",
              "3             0.101080        6.03             0.020143  0.214866 -0.438571   \n",
              "4             0.639769        0.94             0.004516  0.040681 -0.419355   \n",
              "\n",
              "      mfei1     mfei2     mfei4  class  \n",
              "0 -1.116667 -0.137436 -1.072000      1  \n",
              "1 -0.786207 -0.116923 -1.036364      1  \n",
              "2 -0.779412 -0.100379 -1.204545      1  \n",
              "3 -0.787179 -0.146190 -1.228000      1  \n",
              "4 -1.000000 -0.139785 -1.238095      1  \n",
              "\n",
              "[5 rows x 74 columns]"
            ],
            "text/html": [
              "\n",
              "  <div id=\"df-14ba8648-8efd-4f81-b8e7-5ce14fe1ba51\">\n",
              "    <div class=\"colab-df-container\">\n",
              "      <div>\n",
              "<style scoped>\n",
              "    .dataframe tbody tr th:only-of-type {\n",
              "        vertical-align: middle;\n",
              "    }\n",
              "\n",
              "    .dataframe tbody tr th {\n",
              "        vertical-align: top;\n",
              "    }\n",
              "\n",
              "    .dataframe thead th {\n",
              "        text-align: right;\n",
              "    }\n",
              "</style>\n",
              "<table border=\"1\" class=\"dataframe\">\n",
              "  <thead>\n",
              "    <tr style=\"text-align: right;\">\n",
              "      <th></th>\n",
              "      <th>nt_proportion0</th>\n",
              "      <th>nt_proportion1</th>\n",
              "      <th>nt_proportion2</th>\n",
              "      <th>nt_proportion3</th>\n",
              "      <th>dinucleotide_proportion0</th>\n",
              "      <th>dinucleotide_proportion1</th>\n",
              "      <th>dinucleotide_proportion2</th>\n",
              "      <th>dinucleotide_proportion3</th>\n",
              "      <th>dinucleotide_proportion4</th>\n",
              "      <th>dinucleotide_proportion5</th>\n",
              "      <th>...</th>\n",
              "      <th>efe</th>\n",
              "      <th>ensemble_frequency</th>\n",
              "      <th>diversity</th>\n",
              "      <th>mfe_efe_difference</th>\n",
              "      <th>dQ</th>\n",
              "      <th>dG</th>\n",
              "      <th>mfei1</th>\n",
              "      <th>mfei2</th>\n",
              "      <th>mfei4</th>\n",
              "      <th>class</th>\n",
              "    </tr>\n",
              "  </thead>\n",
              "  <tbody>\n",
              "    <tr>\n",
              "      <th>0</th>\n",
              "      <td>0.292308</td>\n",
              "      <td>0.169231</td>\n",
              "      <td>0.200000</td>\n",
              "      <td>0.338462</td>\n",
              "      <td>0.109375</td>\n",
              "      <td>0.015625</td>\n",
              "      <td>0.078125</td>\n",
              "      <td>0.093750</td>\n",
              "      <td>0.062500</td>\n",
              "      <td>0.031250</td>\n",
              "      <td>...</td>\n",
              "      <td>-27.28</td>\n",
              "      <td>0.457857</td>\n",
              "      <td>1.67</td>\n",
              "      <td>0.007385</td>\n",
              "      <td>0.066635</td>\n",
              "      <td>-0.412308</td>\n",
              "      <td>-1.116667</td>\n",
              "      <td>-0.137436</td>\n",
              "      <td>-1.072000</td>\n",
              "      <td>1</td>\n",
              "    </tr>\n",
              "    <tr>\n",
              "      <th>1</th>\n",
              "      <td>0.276923</td>\n",
              "      <td>0.215385</td>\n",
              "      <td>0.230769</td>\n",
              "      <td>0.276923</td>\n",
              "      <td>0.125000</td>\n",
              "      <td>0.078125</td>\n",
              "      <td>0.046875</td>\n",
              "      <td>0.031250</td>\n",
              "      <td>0.078125</td>\n",
              "      <td>0.000000</td>\n",
              "      <td>...</td>\n",
              "      <td>-23.95</td>\n",
              "      <td>0.154283</td>\n",
              "      <td>5.77</td>\n",
              "      <td>0.017692</td>\n",
              "      <td>0.228730</td>\n",
              "      <td>-0.350769</td>\n",
              "      <td>-0.786207</td>\n",
              "      <td>-0.116923</td>\n",
              "      <td>-1.036364</td>\n",
              "      <td>1</td>\n",
              "    </tr>\n",
              "    <tr>\n",
              "      <th>2</th>\n",
              "      <td>0.242424</td>\n",
              "      <td>0.287879</td>\n",
              "      <td>0.227273</td>\n",
              "      <td>0.242424</td>\n",
              "      <td>0.061538</td>\n",
              "      <td>0.061538</td>\n",
              "      <td>0.061538</td>\n",
              "      <td>0.046154</td>\n",
              "      <td>0.061538</td>\n",
              "      <td>0.138462</td>\n",
              "      <td>...</td>\n",
              "      <td>-27.02</td>\n",
              "      <td>0.426696</td>\n",
              "      <td>2.62</td>\n",
              "      <td>0.007879</td>\n",
              "      <td>0.107199</td>\n",
              "      <td>-0.401515</td>\n",
              "      <td>-0.779412</td>\n",
              "      <td>-0.100379</td>\n",
              "      <td>-1.204545</td>\n",
              "      <td>1</td>\n",
              "    </tr>\n",
              "    <tr>\n",
              "      <th>3</th>\n",
              "      <td>0.200000</td>\n",
              "      <td>0.257143</td>\n",
              "      <td>0.300000</td>\n",
              "      <td>0.242857</td>\n",
              "      <td>0.028986</td>\n",
              "      <td>0.057971</td>\n",
              "      <td>0.057971</td>\n",
              "      <td>0.057971</td>\n",
              "      <td>0.057971</td>\n",
              "      <td>0.072464</td>\n",
              "      <td>...</td>\n",
              "      <td>-32.11</td>\n",
              "      <td>0.101080</td>\n",
              "      <td>6.03</td>\n",
              "      <td>0.020143</td>\n",
              "      <td>0.214866</td>\n",
              "      <td>-0.438571</td>\n",
              "      <td>-0.787179</td>\n",
              "      <td>-0.146190</td>\n",
              "      <td>-1.228000</td>\n",
              "      <td>1</td>\n",
              "    </tr>\n",
              "    <tr>\n",
              "      <th>4</th>\n",
              "      <td>0.258065</td>\n",
              "      <td>0.193548</td>\n",
              "      <td>0.225806</td>\n",
              "      <td>0.322581</td>\n",
              "      <td>0.098361</td>\n",
              "      <td>0.016393</td>\n",
              "      <td>0.049180</td>\n",
              "      <td>0.081967</td>\n",
              "      <td>0.049180</td>\n",
              "      <td>0.049180</td>\n",
              "      <td>...</td>\n",
              "      <td>-26.28</td>\n",
              "      <td>0.639769</td>\n",
              "      <td>0.94</td>\n",
              "      <td>0.004516</td>\n",
              "      <td>0.040681</td>\n",
              "      <td>-0.419355</td>\n",
              "      <td>-1.000000</td>\n",
              "      <td>-0.139785</td>\n",
              "      <td>-1.238095</td>\n",
              "      <td>1</td>\n",
              "    </tr>\n",
              "  </tbody>\n",
              "</table>\n",
              "<p>5 rows × 74 columns</p>\n",
              "</div>\n",
              "      <button class=\"colab-df-convert\" onclick=\"convertToInteractive('df-14ba8648-8efd-4f81-b8e7-5ce14fe1ba51')\"\n",
              "              title=\"Convert this dataframe to an interactive table.\"\n",
              "              style=\"display:none;\">\n",
              "        \n",
              "  <svg xmlns=\"http://www.w3.org/2000/svg\" height=\"24px\"viewBox=\"0 0 24 24\"\n",
              "       width=\"24px\">\n",
              "    <path d=\"M0 0h24v24H0V0z\" fill=\"none\"/>\n",
              "    <path d=\"M18.56 5.44l.94 2.06.94-2.06 2.06-.94-2.06-.94-.94-2.06-.94 2.06-2.06.94zm-11 1L8.5 8.5l.94-2.06 2.06-.94-2.06-.94L8.5 2.5l-.94 2.06-2.06.94zm10 10l.94 2.06.94-2.06 2.06-.94-2.06-.94-.94-2.06-.94 2.06-2.06.94z\"/><path d=\"M17.41 7.96l-1.37-1.37c-.4-.4-.92-.59-1.43-.59-.52 0-1.04.2-1.43.59L10.3 9.45l-7.72 7.72c-.78.78-.78 2.05 0 2.83L4 21.41c.39.39.9.59 1.41.59.51 0 1.02-.2 1.41-.59l7.78-7.78 2.81-2.81c.8-.78.8-2.07 0-2.86zM5.41 20L4 18.59l7.72-7.72 1.47 1.35L5.41 20z\"/>\n",
              "  </svg>\n",
              "      </button>\n",
              "      \n",
              "  <style>\n",
              "    .colab-df-container {\n",
              "      display:flex;\n",
              "      flex-wrap:wrap;\n",
              "      gap: 12px;\n",
              "    }\n",
              "\n",
              "    .colab-df-convert {\n",
              "      background-color: #E8F0FE;\n",
              "      border: none;\n",
              "      border-radius: 50%;\n",
              "      cursor: pointer;\n",
              "      display: none;\n",
              "      fill: #1967D2;\n",
              "      height: 32px;\n",
              "      padding: 0 0 0 0;\n",
              "      width: 32px;\n",
              "    }\n",
              "\n",
              "    .colab-df-convert:hover {\n",
              "      background-color: #E2EBFA;\n",
              "      box-shadow: 0px 1px 2px rgba(60, 64, 67, 0.3), 0px 1px 3px 1px rgba(60, 64, 67, 0.15);\n",
              "      fill: #174EA6;\n",
              "    }\n",
              "\n",
              "    [theme=dark] .colab-df-convert {\n",
              "      background-color: #3B4455;\n",
              "      fill: #D2E3FC;\n",
              "    }\n",
              "\n",
              "    [theme=dark] .colab-df-convert:hover {\n",
              "      background-color: #434B5C;\n",
              "      box-shadow: 0px 1px 3px 1px rgba(0, 0, 0, 0.15);\n",
              "      filter: drop-shadow(0px 1px 2px rgba(0, 0, 0, 0.3));\n",
              "      fill: #FFFFFF;\n",
              "    }\n",
              "  </style>\n",
              "\n",
              "      <script>\n",
              "        const buttonEl =\n",
              "          document.querySelector('#df-14ba8648-8efd-4f81-b8e7-5ce14fe1ba51 button.colab-df-convert');\n",
              "        buttonEl.style.display =\n",
              "          google.colab.kernel.accessAllowed ? 'block' : 'none';\n",
              "\n",
              "        async function convertToInteractive(key) {\n",
              "          const element = document.querySelector('#df-14ba8648-8efd-4f81-b8e7-5ce14fe1ba51');\n",
              "          const dataTable =\n",
              "            await google.colab.kernel.invokeFunction('convertToInteractive',\n",
              "                                                     [key], {});\n",
              "          if (!dataTable) return;\n",
              "\n",
              "          const docLinkHtml = 'Like what you see? Visit the ' +\n",
              "            '<a target=\"_blank\" href=https://colab.research.google.com/notebooks/data_table.ipynb>data table notebook</a>'\n",
              "            + ' to learn more about interactive tables.';\n",
              "          element.innerHTML = '';\n",
              "          dataTable['output_type'] = 'display_data';\n",
              "          await google.colab.output.renderOutput(dataTable, element);\n",
              "          const docLink = document.createElement('div');\n",
              "          docLink.innerHTML = docLinkHtml;\n",
              "          element.appendChild(docLink);\n",
              "        }\n",
              "      </script>\n",
              "    </div>\n",
              "  </div>\n",
              "  "
            ]
          },
          "metadata": {},
          "execution_count": 9
        }
      ]
    },
    {
      "cell_type": "code",
      "source": [
        "df.fillna(value=0, inplace = True)"
      ],
      "metadata": {
        "id": "2UzL7HvGmoID"
      },
      "execution_count": 10,
      "outputs": []
    },
    {
      "cell_type": "code",
      "source": [
        "df.isnull().sum().max()"
      ],
      "metadata": {
        "colab": {
          "base_uri": "https://localhost:8080/"
        },
        "id": "s6Ax4aYImpQa",
        "outputId": "f83faabf-1908-4f37-d9dc-76fc4772888f"
      },
      "execution_count": 11,
      "outputs": [
        {
          "output_type": "execute_result",
          "data": {
            "text/plain": [
              "0"
            ]
          },
          "metadata": {},
          "execution_count": 11
        }
      ]
    },
    {
      "cell_type": "code",
      "source": [
        "df = df.sample(frac=1)\n",
        "\n",
        "\n",
        "positive_df = df.loc[df['class'] == 1]\n",
        "negative_df = df.loc[df['class'] == 0][:569]\n",
        "\n",
        "normal_distributed_df = pd.concat([positive_df, negative_df])\n",
        "\n",
        "new_df = normal_distributed_df.sample(frac=1, random_state=42)\n",
        "\n",
        "new_df.head()"
      ],
      "metadata": {
        "colab": {
          "base_uri": "https://localhost:8080/",
          "height": 300
        },
        "id": "BOmjaPh8m_py",
        "outputId": "8774c1b1-6af3-439b-f237-211eea893363"
      },
      "execution_count": 55,
      "outputs": [
        {
          "output_type": "execute_result",
          "data": {
            "text/plain": [
              "         nt_proportion0   nt_proportion1   nt_proportion2   nt_proportion3  \\\n",
              "686740         0.179000         0.224000         0.343000         0.254000   \n",
              "90490          0.302000         0.238000         0.222000         0.238000   \n",
              "447            0.353659         0.170732         0.158537         0.317073   \n",
              "873626         0.239000         0.183000         0.296000         0.282000   \n",
              "207            0.178571         0.250000         0.267857         0.303571   \n",
              "\n",
              "         dinucleotide_proportion0   dinucleotide_proportion1  \\\n",
              "686740                   0.045000                   0.030000   \n",
              "90490                    0.097000                   0.048000   \n",
              "447                      0.111111                   0.111111   \n",
              "873626                   0.086000                   0.043000   \n",
              "207                      0.018182                   0.072727   \n",
              "\n",
              "         dinucleotide_proportion2   dinucleotide_proportion3  \\\n",
              "686740                   0.061000                   0.045000   \n",
              "90490                    0.081000                   0.081000   \n",
              "447                      0.049383                   0.086420   \n",
              "873626                   0.043000                   0.071000   \n",
              "207                      0.072727                   0.018182   \n",
              "\n",
              "         dinucleotide_proportion4   dinucleotide_proportion5  ...    efe  \\\n",
              "686740                   0.061000                   0.061000  ... -21.97   \n",
              "90490                    0.113000                   0.032000  ... -13.53   \n",
              "447                      0.061728                   0.012346  ... -34.09   \n",
              "873626                   0.057000                   0.057000  ... -17.01   \n",
              "207                      0.072727                   0.036364  ... -25.43   \n",
              "\n",
              "         ensemble_frequency   diversity   mfe_efe_difference        dQ  \\\n",
              "686740             0.056000        9.54             0.026000  0.386000   \n",
              "90490              0.357000        7.81             0.010000  0.384000   \n",
              "447                0.325206        2.40             0.008415  0.068815   \n",
              "873626             0.038000       19.54             0.028000  0.894000   \n",
              "207                0.357659        2.42             0.011250  0.104883   \n",
              "\n",
              "              dG     mfei1     mfei2     mfei4  class  \n",
              "686740 -0.301000 -0.532000 -0.151000 -0.878000      0  \n",
              "90490  -0.205000 -0.445000 -0.068000 -0.679000      0  \n",
              "447    -0.407317 -1.237037 -0.203659 -1.151724      1  \n",
              "873626 -0.211000 -0.441000 -0.106000 -1.154000      0  \n",
              "207    -0.442857 -0.855172 -0.147619 -1.240000      1  \n",
              "\n",
              "[5 rows x 74 columns]"
            ],
            "text/html": [
              "\n",
              "  <div id=\"df-284ca328-bd70-4b03-b953-47396d23aeae\">\n",
              "    <div class=\"colab-df-container\">\n",
              "      <div>\n",
              "<style scoped>\n",
              "    .dataframe tbody tr th:only-of-type {\n",
              "        vertical-align: middle;\n",
              "    }\n",
              "\n",
              "    .dataframe tbody tr th {\n",
              "        vertical-align: top;\n",
              "    }\n",
              "\n",
              "    .dataframe thead th {\n",
              "        text-align: right;\n",
              "    }\n",
              "</style>\n",
              "<table border=\"1\" class=\"dataframe\">\n",
              "  <thead>\n",
              "    <tr style=\"text-align: right;\">\n",
              "      <th></th>\n",
              "      <th>nt_proportion0</th>\n",
              "      <th>nt_proportion1</th>\n",
              "      <th>nt_proportion2</th>\n",
              "      <th>nt_proportion3</th>\n",
              "      <th>dinucleotide_proportion0</th>\n",
              "      <th>dinucleotide_proportion1</th>\n",
              "      <th>dinucleotide_proportion2</th>\n",
              "      <th>dinucleotide_proportion3</th>\n",
              "      <th>dinucleotide_proportion4</th>\n",
              "      <th>dinucleotide_proportion5</th>\n",
              "      <th>...</th>\n",
              "      <th>efe</th>\n",
              "      <th>ensemble_frequency</th>\n",
              "      <th>diversity</th>\n",
              "      <th>mfe_efe_difference</th>\n",
              "      <th>dQ</th>\n",
              "      <th>dG</th>\n",
              "      <th>mfei1</th>\n",
              "      <th>mfei2</th>\n",
              "      <th>mfei4</th>\n",
              "      <th>class</th>\n",
              "    </tr>\n",
              "  </thead>\n",
              "  <tbody>\n",
              "    <tr>\n",
              "      <th>686740</th>\n",
              "      <td>0.179000</td>\n",
              "      <td>0.224000</td>\n",
              "      <td>0.343000</td>\n",
              "      <td>0.254000</td>\n",
              "      <td>0.045000</td>\n",
              "      <td>0.030000</td>\n",
              "      <td>0.061000</td>\n",
              "      <td>0.045000</td>\n",
              "      <td>0.061000</td>\n",
              "      <td>0.061000</td>\n",
              "      <td>...</td>\n",
              "      <td>-21.97</td>\n",
              "      <td>0.056000</td>\n",
              "      <td>9.54</td>\n",
              "      <td>0.026000</td>\n",
              "      <td>0.386000</td>\n",
              "      <td>-0.301000</td>\n",
              "      <td>-0.532000</td>\n",
              "      <td>-0.151000</td>\n",
              "      <td>-0.878000</td>\n",
              "      <td>0</td>\n",
              "    </tr>\n",
              "    <tr>\n",
              "      <th>90490</th>\n",
              "      <td>0.302000</td>\n",
              "      <td>0.238000</td>\n",
              "      <td>0.222000</td>\n",
              "      <td>0.238000</td>\n",
              "      <td>0.097000</td>\n",
              "      <td>0.048000</td>\n",
              "      <td>0.081000</td>\n",
              "      <td>0.081000</td>\n",
              "      <td>0.113000</td>\n",
              "      <td>0.032000</td>\n",
              "      <td>...</td>\n",
              "      <td>-13.53</td>\n",
              "      <td>0.357000</td>\n",
              "      <td>7.81</td>\n",
              "      <td>0.010000</td>\n",
              "      <td>0.384000</td>\n",
              "      <td>-0.205000</td>\n",
              "      <td>-0.445000</td>\n",
              "      <td>-0.068000</td>\n",
              "      <td>-0.679000</td>\n",
              "      <td>0</td>\n",
              "    </tr>\n",
              "    <tr>\n",
              "      <th>447</th>\n",
              "      <td>0.353659</td>\n",
              "      <td>0.170732</td>\n",
              "      <td>0.158537</td>\n",
              "      <td>0.317073</td>\n",
              "      <td>0.111111</td>\n",
              "      <td>0.111111</td>\n",
              "      <td>0.049383</td>\n",
              "      <td>0.086420</td>\n",
              "      <td>0.061728</td>\n",
              "      <td>0.012346</td>\n",
              "      <td>...</td>\n",
              "      <td>-34.09</td>\n",
              "      <td>0.325206</td>\n",
              "      <td>2.40</td>\n",
              "      <td>0.008415</td>\n",
              "      <td>0.068815</td>\n",
              "      <td>-0.407317</td>\n",
              "      <td>-1.237037</td>\n",
              "      <td>-0.203659</td>\n",
              "      <td>-1.151724</td>\n",
              "      <td>1</td>\n",
              "    </tr>\n",
              "    <tr>\n",
              "      <th>873626</th>\n",
              "      <td>0.239000</td>\n",
              "      <td>0.183000</td>\n",
              "      <td>0.296000</td>\n",
              "      <td>0.282000</td>\n",
              "      <td>0.086000</td>\n",
              "      <td>0.043000</td>\n",
              "      <td>0.043000</td>\n",
              "      <td>0.071000</td>\n",
              "      <td>0.057000</td>\n",
              "      <td>0.057000</td>\n",
              "      <td>...</td>\n",
              "      <td>-17.01</td>\n",
              "      <td>0.038000</td>\n",
              "      <td>19.54</td>\n",
              "      <td>0.028000</td>\n",
              "      <td>0.894000</td>\n",
              "      <td>-0.211000</td>\n",
              "      <td>-0.441000</td>\n",
              "      <td>-0.106000</td>\n",
              "      <td>-1.154000</td>\n",
              "      <td>0</td>\n",
              "    </tr>\n",
              "    <tr>\n",
              "      <th>207</th>\n",
              "      <td>0.178571</td>\n",
              "      <td>0.250000</td>\n",
              "      <td>0.267857</td>\n",
              "      <td>0.303571</td>\n",
              "      <td>0.018182</td>\n",
              "      <td>0.072727</td>\n",
              "      <td>0.072727</td>\n",
              "      <td>0.018182</td>\n",
              "      <td>0.072727</td>\n",
              "      <td>0.036364</td>\n",
              "      <td>...</td>\n",
              "      <td>-25.43</td>\n",
              "      <td>0.357659</td>\n",
              "      <td>2.42</td>\n",
              "      <td>0.011250</td>\n",
              "      <td>0.104883</td>\n",
              "      <td>-0.442857</td>\n",
              "      <td>-0.855172</td>\n",
              "      <td>-0.147619</td>\n",
              "      <td>-1.240000</td>\n",
              "      <td>1</td>\n",
              "    </tr>\n",
              "  </tbody>\n",
              "</table>\n",
              "<p>5 rows × 74 columns</p>\n",
              "</div>\n",
              "      <button class=\"colab-df-convert\" onclick=\"convertToInteractive('df-284ca328-bd70-4b03-b953-47396d23aeae')\"\n",
              "              title=\"Convert this dataframe to an interactive table.\"\n",
              "              style=\"display:none;\">\n",
              "        \n",
              "  <svg xmlns=\"http://www.w3.org/2000/svg\" height=\"24px\"viewBox=\"0 0 24 24\"\n",
              "       width=\"24px\">\n",
              "    <path d=\"M0 0h24v24H0V0z\" fill=\"none\"/>\n",
              "    <path d=\"M18.56 5.44l.94 2.06.94-2.06 2.06-.94-2.06-.94-.94-2.06-.94 2.06-2.06.94zm-11 1L8.5 8.5l.94-2.06 2.06-.94-2.06-.94L8.5 2.5l-.94 2.06-2.06.94zm10 10l.94 2.06.94-2.06 2.06-.94-2.06-.94-.94-2.06-.94 2.06-2.06.94z\"/><path d=\"M17.41 7.96l-1.37-1.37c-.4-.4-.92-.59-1.43-.59-.52 0-1.04.2-1.43.59L10.3 9.45l-7.72 7.72c-.78.78-.78 2.05 0 2.83L4 21.41c.39.39.9.59 1.41.59.51 0 1.02-.2 1.41-.59l7.78-7.78 2.81-2.81c.8-.78.8-2.07 0-2.86zM5.41 20L4 18.59l7.72-7.72 1.47 1.35L5.41 20z\"/>\n",
              "  </svg>\n",
              "      </button>\n",
              "      \n",
              "  <style>\n",
              "    .colab-df-container {\n",
              "      display:flex;\n",
              "      flex-wrap:wrap;\n",
              "      gap: 12px;\n",
              "    }\n",
              "\n",
              "    .colab-df-convert {\n",
              "      background-color: #E8F0FE;\n",
              "      border: none;\n",
              "      border-radius: 50%;\n",
              "      cursor: pointer;\n",
              "      display: none;\n",
              "      fill: #1967D2;\n",
              "      height: 32px;\n",
              "      padding: 0 0 0 0;\n",
              "      width: 32px;\n",
              "    }\n",
              "\n",
              "    .colab-df-convert:hover {\n",
              "      background-color: #E2EBFA;\n",
              "      box-shadow: 0px 1px 2px rgba(60, 64, 67, 0.3), 0px 1px 3px 1px rgba(60, 64, 67, 0.15);\n",
              "      fill: #174EA6;\n",
              "    }\n",
              "\n",
              "    [theme=dark] .colab-df-convert {\n",
              "      background-color: #3B4455;\n",
              "      fill: #D2E3FC;\n",
              "    }\n",
              "\n",
              "    [theme=dark] .colab-df-convert:hover {\n",
              "      background-color: #434B5C;\n",
              "      box-shadow: 0px 1px 3px 1px rgba(0, 0, 0, 0.15);\n",
              "      filter: drop-shadow(0px 1px 2px rgba(0, 0, 0, 0.3));\n",
              "      fill: #FFFFFF;\n",
              "    }\n",
              "  </style>\n",
              "\n",
              "      <script>\n",
              "        const buttonEl =\n",
              "          document.querySelector('#df-284ca328-bd70-4b03-b953-47396d23aeae button.colab-df-convert');\n",
              "        buttonEl.style.display =\n",
              "          google.colab.kernel.accessAllowed ? 'block' : 'none';\n",
              "\n",
              "        async function convertToInteractive(key) {\n",
              "          const element = document.querySelector('#df-284ca328-bd70-4b03-b953-47396d23aeae');\n",
              "          const dataTable =\n",
              "            await google.colab.kernel.invokeFunction('convertToInteractive',\n",
              "                                                     [key], {});\n",
              "          if (!dataTable) return;\n",
              "\n",
              "          const docLinkHtml = 'Like what you see? Visit the ' +\n",
              "            '<a target=\"_blank\" href=https://colab.research.google.com/notebooks/data_table.ipynb>data table notebook</a>'\n",
              "            + ' to learn more about interactive tables.';\n",
              "          element.innerHTML = '';\n",
              "          dataTable['output_type'] = 'display_data';\n",
              "          await google.colab.output.renderOutput(dataTable, element);\n",
              "          const docLink = document.createElement('div');\n",
              "          docLink.innerHTML = docLinkHtml;\n",
              "          element.appendChild(docLink);\n",
              "        }\n",
              "      </script>\n",
              "    </div>\n",
              "  </div>\n",
              "  "
            ]
          },
          "metadata": {},
          "execution_count": 55
        }
      ]
    },
    {
      "cell_type": "code",
      "source": [
        "X = new_df.drop('class', axis=1)\n",
        "y = new_df['class']"
      ],
      "metadata": {
        "id": "wtRlzMyPnC1z"
      },
      "execution_count": 40,
      "outputs": []
    },
    {
      "cell_type": "code",
      "source": [
        "from sklearn.feature_selection import mutual_info_classif\n",
        "\n",
        "\n",
        "mutual = mutual_info_classif(X, y)"
      ],
      "metadata": {
        "id": "l8Y5NdnirWSW"
      },
      "execution_count": 41,
      "outputs": []
    },
    {
      "cell_type": "code",
      "source": [
        "mutual = pd.Series(mutual)\n",
        "mutual.index = X.columns\n",
        "mutual.sort_values(ascending=False)"
      ],
      "metadata": {
        "colab": {
          "base_uri": "https://localhost:8080/"
        },
        "id": "caIop7kyYQJC",
        "outputId": "9575afeb-a3d9-45ea-ec7c-77ed4b103698"
      },
      "execution_count": 42,
      "outputs": [
        {
          "output_type": "execute_result",
          "data": {
            "text/plain": [
              " mfe_efe_difference           0.517103\n",
              " dinucleotide_proportion8     0.403784\n",
              " triplets19                   0.401392\n",
              " triplets7                    0.399462\n",
              " dinucleotide_proportion13    0.398367\n",
              "                                ...   \n",
              " triplets10                   0.060562\n",
              " bp_number                    0.046437\n",
              " triplets20                   0.034808\n",
              " triplets23                   0.034257\n",
              " triplets21                   0.014477\n",
              "Length: 73, dtype: float64"
            ]
          },
          "metadata": {},
          "execution_count": 42
        }
      ]
    },
    {
      "cell_type": "code",
      "source": [
        "mutual.sort_values(ascending=False).plot.bar(figsize=(20, 8)).grid()"
      ],
      "metadata": {
        "id": "Oxo3OJDQrj8H",
        "colab": {
          "base_uri": "https://localhost:8080/",
          "height": 607
        },
        "outputId": "ffa49208-5709-4a25-feb9-c5216869068f"
      },
      "execution_count": 43,
      "outputs": [
        {
          "output_type": "display_data",
          "data": {
            "text/plain": [
              "<Figure size 1440x576 with 1 Axes>"
            ],
            "image/png": "[encoded data removed]"
          },
          "metadata": {
            "needs_background": "light"
          }
        }
      ]
    },
    {
      "cell_type": "code",
      "source": [
        "from sklearn.feature_selection import SelectKBest\n",
        "\n",
        "\n",
        "sel_cols = SelectKBest(mutual_info_classif, k=56)\n",
        "z = sel_cols.fit(X, y)"
      ],
      "metadata": {
        "id": "ig8qgbMSZQsF"
      },
      "execution_count": 44,
      "outputs": []
    },
    {
      "cell_type": "code",
      "source": [
        "X.columns[sel_cols.get_support()]"
      ],
      "metadata": {
        "colab": {
          "base_uri": "https://localhost:8080/"
        },
        "id": "E8HJ4q9QuVsF",
        "outputId": "611d3479-549d-4c9a-b86e-d5a8654deb1b"
      },
      "execution_count": 45,
      "outputs": [
        {
          "output_type": "execute_result",
          "data": {
            "text/plain": [
              "Index([' dinucleotide_proportion0', ' dinucleotide_proportion1',\n",
              "       ' dinucleotide_proportion2', ' dinucleotide_proportion3',\n",
              "       ' dinucleotide_proportion4', ' dinucleotide_proportion5',\n",
              "       ' dinucleotide_proportion6', ' dinucleotide_proportion7',\n",
              "       ' dinucleotide_proportion8', ' dinucleotide_proportion9',\n",
              "       ' dinucleotide_proportion10', ' dinucleotide_proportion11',\n",
              "       ' dinucleotide_proportion12', ' dinucleotide_proportion13',\n",
              "       ' dinucleotide_proportion14', ' dinucleotide_proportion15', ' dP',\n",
              "       ' bp_proportion0', ' bp_proportion1', ' bp_proportion2',\n",
              "       ' bp_proportion_stem1', ' bp_proportion_stem2', ' triplets0',\n",
              "       ' triplets1', ' triplets2', ' triplets3', ' triplets4', ' triplets5',\n",
              "       ' triplets6', ' triplets7', ' triplets8', ' triplets9', ' triplets11',\n",
              "       ' triplets12', ' triplets13', ' triplets14', ' triplets15',\n",
              "       ' triplets16', ' triplets17', ' triplets18', ' triplets19',\n",
              "       ' triplets24', ' triplets25', ' triplets27', ' triplets28',\n",
              "       ' triplets29', ' triplets30', ' triplets31', ' mfe', ' efe',\n",
              "       ' mfe_efe_difference', ' dQ', ' dG', ' mfei1', ' mfei2', ' mfei4'],\n",
              "      dtype='object')"
            ]
          },
          "metadata": {},
          "execution_count": 45
        }
      ]
    },
    {
      "cell_type": "code",
      "source": [
        "new = new_df.filter([' dinucleotide_proportion0', ' dinucleotide_proportion1',\n",
        "       ' dinucleotide_proportion2', ' dinucleotide_proportion3',\n",
        "       ' dinucleotide_proportion4', ' dinucleotide_proportion5',\n",
        "       ' dinucleotide_proportion6', ' dinucleotide_proportion7',\n",
        "       ' dinucleotide_proportion8', ' dinucleotide_proportion9',\n",
        "       ' dinucleotide_proportion10', ' dinucleotide_proportion11',\n",
        "       ' dinucleotide_proportion12', ' dinucleotide_proportion13',\n",
        "       ' dinucleotide_proportion14', ' dinucleotide_proportion15', ' gc_ratio',\n",
        "       ' dP', ' bp_proportion0', ' bp_proportion1', ' bp_proportion2',\n",
        "       ' bp_proportion_stem1', ' bp_proportion_stem2', ' triplets0',\n",
        "       ' triplets1', ' triplets2', ' triplets3', ' triplets4', ' triplets5',\n",
        "       ' triplets6', ' triplets7', ' triplets8', ' triplets9', ' triplets11',\n",
        "       ' triplets12', ' triplets13', ' triplets15', ' triplets16',\n",
        "       ' triplets17', ' triplets18', ' triplets19', ' triplets24',\n",
        "       ' triplets25', ' triplets27', ' triplets28', ' triplets29',\n",
        "       ' triplets30', ' triplets31', ' mfe', ' efe', ' mfe_efe_difference',\n",
        "       ' dQ', ' dG', ' mfei1', ' mfei2', ' mfei4', 'class'], axis=1)"
      ],
      "metadata": {
        "id": "t-PQOE5RuZLj"
      },
      "execution_count": 46,
      "outputs": []
    },
    {
      "cell_type": "code",
      "source": [
        "new_X = new.drop('class', axis=1)\n",
        "new_y = new['class']"
      ],
      "metadata": {
        "id": "oeZhI9uKu09a"
      },
      "execution_count": 48,
      "outputs": []
    },
    {
      "cell_type": "code",
      "source": [
        "new_X"
      ],
      "metadata": {
        "colab": {
          "base_uri": "https://localhost:8080/",
          "height": 488
        },
        "id": "8UG6PCbuxK9o",
        "outputId": "d5e16310-a5e7-42d9-edbe-1f2e41c6b87e"
      },
      "execution_count": 49,
      "outputs": [
        {
          "output_type": "execute_result",
          "data": {
            "text/plain": [
              "         dinucleotide_proportion0   dinucleotide_proportion1  \\\n",
              "956975                   0.131000                   0.066000   \n",
              "706379                   0.105000                   0.026000   \n",
              "285                      0.041096                   0.054795   \n",
              "501177                   0.083000                   0.024000   \n",
              "249                      0.111111                   0.055556   \n",
              "...                           ...                        ...   \n",
              "116377                   0.079000                   0.039000   \n",
              "794933                   0.145000                   0.060000   \n",
              "457905                   0.200000                   0.010000   \n",
              "962211                   0.190000                   0.063000   \n",
              "741793                   0.026000                   0.039000   \n",
              "\n",
              "         dinucleotide_proportion2   dinucleotide_proportion3  \\\n",
              "956975                   0.115000                   0.049000   \n",
              "706379                   0.066000                   0.105000   \n",
              "285                      0.068493                   0.082192   \n",
              "501177                   0.083000                   0.036000   \n",
              "249                      0.083333                   0.069444   \n",
              "...                           ...                        ...   \n",
              "116377                   0.092000                   0.066000   \n",
              "794933                   0.036000                   0.096000   \n",
              "457905                   0.050000                   0.110000   \n",
              "962211                   0.000000                   0.177000   \n",
              "741793                   0.039000                   0.091000   \n",
              "\n",
              "         dinucleotide_proportion4   dinucleotide_proportion5  \\\n",
              "956975                   0.066000                   0.000000   \n",
              "706379                   0.092000                   0.039000   \n",
              "285                      0.068493                   0.041096   \n",
              "501177                   0.048000                   0.060000   \n",
              "249                      0.111111                   0.055556   \n",
              "...                           ...                        ...   \n",
              "116377                   0.079000                   0.039000   \n",
              "794933                   0.096000                   0.108000   \n",
              "457905                   0.040000                   0.050000   \n",
              "962211                   0.089000                   0.051000   \n",
              "741793                   0.039000                   0.078000   \n",
              "\n",
              "         dinucleotide_proportion6   dinucleotide_proportion7  \\\n",
              "956975                   0.000000                   0.082000   \n",
              "706379                   0.000000                   0.053000   \n",
              "285                      0.013699                   0.109589   \n",
              "501177                   0.000000                   0.095000   \n",
              "249                      0.041667                   0.041667   \n",
              "...                           ...                        ...   \n",
              "116377                   0.013000                   0.092000   \n",
              "794933                   0.012000                   0.060000   \n",
              "457905                   0.000000                   0.020000   \n",
              "962211                   0.013000                   0.038000   \n",
              "741793                   0.039000                   0.052000   \n",
              "\n",
              "         dinucleotide_proportion8   dinucleotide_proportion9  ...  \\\n",
              "956975                   0.148000                   0.033000  ...   \n",
              "706379                   0.053000                   0.066000  ...   \n",
              "285                      0.054795                   0.095890  ...   \n",
              "501177                   0.036000                   0.024000  ...   \n",
              "249                      0.069444                   0.069444  ...   \n",
              "...                           ...                        ...  ...   \n",
              "116377                   0.079000                   0.066000  ...   \n",
              "794933                   0.024000                   0.048000  ...   \n",
              "457905                   0.000000                   0.000000  ...   \n",
              "962211                   0.000000                   0.013000  ...   \n",
              "741793                   0.065000                   0.013000  ...   \n",
              "\n",
              "         triplets30   triplets31   mfe    efe   mfe_efe_difference        dQ  \\\n",
              "956975        0.018     0.000000 -12.4 -13.61             0.020000  0.284000   \n",
              "706379        0.058     0.130000 -18.9 -20.37             0.019000  0.260000   \n",
              "285           0.000     0.000000 -34.4 -34.90             0.006757  0.050387   \n",
              "501177        0.026     0.104000 -20.7 -22.53             0.022000  0.246000   \n",
              "249           0.000     0.017857 -21.4 -22.44             0.014247  0.211672   \n",
              "...             ...          ...   ...    ...                  ...       ...   \n",
              "116377        0.000     0.015000 -19.7 -20.70             0.013000  0.554000   \n",
              "794933        0.000     0.043000 -25.2 -26.49             0.015000  0.188000   \n",
              "457905        0.032     0.140000  -6.3  -8.92             0.026000  0.716000   \n",
              "962211        0.000     0.121000  -1.1  -2.63             0.019000  0.557000   \n",
              "741793        0.013     0.066000 -17.3 -19.52             0.028000  0.525000   \n",
              "\n",
              "              dG     mfei1     mfei2     mfei4  \n",
              "956975 -0.200000 -0.477000 -0.100000 -0.620000  \n",
              "706379 -0.245000 -0.610000 -0.082000 -0.945000  \n",
              "285    -0.464865 -1.011765 -0.154955 -1.274074  \n",
              "501177 -0.244000 -0.627000 -0.061000 -0.828000  \n",
              "249    -0.293151 -0.668750 -0.146575 -0.930435  \n",
              "...          ...       ...       ...       ...  \n",
              "116377 -0.256000 -0.532000 -0.064000 -0.788000  \n",
              "794933 -0.300000 -0.663000 -0.075000 -1.050000  \n",
              "457905 -0.062000 -0.300000 -0.021000 -0.286000  \n",
              "962211 -0.014000 -0.055000 -0.007000 -0.065000  \n",
              "741793 -0.222000 -0.509000 -0.074000 -0.692000  \n",
              "\n",
              "[1138 rows x 56 columns]"
            ],
            "text/html": [
              "\n",
              "  <div id=\"df-080a4fad-61c0-492a-82d6-d451a7a61d45\">\n",
              "    <div class=\"colab-df-container\">\n",
              "      <div>\n",
              "<style scoped>\n",
              "    .dataframe tbody tr th:only-of-type {\n",
              "        vertical-align: middle;\n",
              "    }\n",
              "\n",
              "    .dataframe tbody tr th {\n",
              "        vertical-align: top;\n",
              "    }\n",
              "\n",
              "    .dataframe thead th {\n",
              "        text-align: right;\n",
              "    }\n",
              "</style>\n",
              "<table border=\"1\" class=\"dataframe\">\n",
              "  <thead>\n",
              "    <tr style=\"text-align: right;\">\n",
              "      <th></th>\n",
              "      <th>dinucleotide_proportion0</th>\n",
              "      <th>dinucleotide_proportion1</th>\n",
              "      <th>dinucleotide_proportion2</th>\n",
              "      <th>dinucleotide_proportion3</th>\n",
              "      <th>dinucleotide_proportion4</th>\n",
              "      <th>dinucleotide_proportion5</th>\n",
              "      <th>dinucleotide_proportion6</th>\n",
              "      <th>dinucleotide_proportion7</th>\n",
              "      <th>dinucleotide_proportion8</th>\n",
              "      <th>dinucleotide_proportion9</th>\n",
              "      <th>...</th>\n",
              "      <th>triplets30</th>\n",
              "      <th>triplets31</th>\n",
              "      <th>mfe</th>\n",
              "      <th>efe</th>\n",
              "      <th>mfe_efe_difference</th>\n",
              "      <th>dQ</th>\n",
              "      <th>dG</th>\n",
              "      <th>mfei1</th>\n",
              "      <th>mfei2</th>\n",
              "      <th>mfei4</th>\n",
              "    </tr>\n",
              "  </thead>\n",
              "  <tbody>\n",
              "    <tr>\n",
              "      <th>956975</th>\n",
              "      <td>0.131000</td>\n",
              "      <td>0.066000</td>\n",
              "      <td>0.115000</td>\n",
              "      <td>0.049000</td>\n",
              "      <td>0.066000</td>\n",
              "      <td>0.000000</td>\n",
              "      <td>0.000000</td>\n",
              "      <td>0.082000</td>\n",
              "      <td>0.148000</td>\n",
              "      <td>0.033000</td>\n",
              "      <td>...</td>\n",
              "      <td>0.018</td>\n",
              "      <td>0.000000</td>\n",
              "      <td>-12.4</td>\n",
              "      <td>-13.61</td>\n",
              "      <td>0.020000</td>\n",
              "      <td>0.284000</td>\n",
              "      <td>-0.200000</td>\n",
              "      <td>-0.477000</td>\n",
              "      <td>-0.100000</td>\n",
              "      <td>-0.620000</td>\n",
              "    </tr>\n",
              "    <tr>\n",
              "      <th>706379</th>\n",
              "      <td>0.105000</td>\n",
              "      <td>0.026000</td>\n",
              "      <td>0.066000</td>\n",
              "      <td>0.105000</td>\n",
              "      <td>0.092000</td>\n",
              "      <td>0.039000</td>\n",
              "      <td>0.000000</td>\n",
              "      <td>0.053000</td>\n",
              "      <td>0.053000</td>\n",
              "      <td>0.066000</td>\n",
              "      <td>...</td>\n",
              "      <td>0.058</td>\n",
              "      <td>0.130000</td>\n",
              "      <td>-18.9</td>\n",
              "      <td>-20.37</td>\n",
              "      <td>0.019000</td>\n",
              "      <td>0.260000</td>\n",
              "      <td>-0.245000</td>\n",
              "      <td>-0.610000</td>\n",
              "      <td>-0.082000</td>\n",
              "      <td>-0.945000</td>\n",
              "    </tr>\n",
              "    <tr>\n",
              "      <th>285</th>\n",
              "      <td>0.041096</td>\n",
              "      <td>0.054795</td>\n",
              "      <td>0.068493</td>\n",
              "      <td>0.082192</td>\n",
              "      <td>0.068493</td>\n",
              "      <td>0.041096</td>\n",
              "      <td>0.013699</td>\n",
              "      <td>0.109589</td>\n",
              "      <td>0.054795</td>\n",
              "      <td>0.095890</td>\n",
              "      <td>...</td>\n",
              "      <td>0.000</td>\n",
              "      <td>0.000000</td>\n",
              "      <td>-34.4</td>\n",
              "      <td>-34.90</td>\n",
              "      <td>0.006757</td>\n",
              "      <td>0.050387</td>\n",
              "      <td>-0.464865</td>\n",
              "      <td>-1.011765</td>\n",
              "      <td>-0.154955</td>\n",
              "      <td>-1.274074</td>\n",
              "    </tr>\n",
              "    <tr>\n",
              "      <th>501177</th>\n",
              "      <td>0.083000</td>\n",
              "      <td>0.024000</td>\n",
              "      <td>0.083000</td>\n",
              "      <td>0.036000</td>\n",
              "      <td>0.048000</td>\n",
              "      <td>0.060000</td>\n",
              "      <td>0.000000</td>\n",
              "      <td>0.095000</td>\n",
              "      <td>0.036000</td>\n",
              "      <td>0.024000</td>\n",
              "      <td>...</td>\n",
              "      <td>0.026</td>\n",
              "      <td>0.104000</td>\n",
              "      <td>-20.7</td>\n",
              "      <td>-22.53</td>\n",
              "      <td>0.022000</td>\n",
              "      <td>0.246000</td>\n",
              "      <td>-0.244000</td>\n",
              "      <td>-0.627000</td>\n",
              "      <td>-0.061000</td>\n",
              "      <td>-0.828000</td>\n",
              "    </tr>\n",
              "    <tr>\n",
              "      <th>249</th>\n",
              "      <td>0.111111</td>\n",
              "      <td>0.055556</td>\n",
              "      <td>0.083333</td>\n",
              "      <td>0.069444</td>\n",
              "      <td>0.111111</td>\n",
              "      <td>0.055556</td>\n",
              "      <td>0.041667</td>\n",
              "      <td>0.041667</td>\n",
              "      <td>0.069444</td>\n",
              "      <td>0.069444</td>\n",
              "      <td>...</td>\n",
              "      <td>0.000</td>\n",
              "      <td>0.017857</td>\n",
              "      <td>-21.4</td>\n",
              "      <td>-22.44</td>\n",
              "      <td>0.014247</td>\n",
              "      <td>0.211672</td>\n",
              "      <td>-0.293151</td>\n",
              "      <td>-0.668750</td>\n",
              "      <td>-0.146575</td>\n",
              "      <td>-0.930435</td>\n",
              "    </tr>\n",
              "    <tr>\n",
              "      <th>...</th>\n",
              "      <td>...</td>\n",
              "      <td>...</td>\n",
              "      <td>...</td>\n",
              "      <td>...</td>\n",
              "      <td>...</td>\n",
              "      <td>...</td>\n",
              "      <td>...</td>\n",
              "      <td>...</td>\n",
              "      <td>...</td>\n",
              "      <td>...</td>\n",
              "      <td>...</td>\n",
              "      <td>...</td>\n",
              "      <td>...</td>\n",
              "      <td>...</td>\n",
              "      <td>...</td>\n",
              "      <td>...</td>\n",
              "      <td>...</td>\n",
              "      <td>...</td>\n",
              "      <td>...</td>\n",
              "      <td>...</td>\n",
              "      <td>...</td>\n",
              "    </tr>\n",
              "    <tr>\n",
              "      <th>116377</th>\n",
              "      <td>0.079000</td>\n",
              "      <td>0.039000</td>\n",
              "      <td>0.092000</td>\n",
              "      <td>0.066000</td>\n",
              "      <td>0.079000</td>\n",
              "      <td>0.039000</td>\n",
              "      <td>0.013000</td>\n",
              "      <td>0.092000</td>\n",
              "      <td>0.079000</td>\n",
              "      <td>0.066000</td>\n",
              "      <td>...</td>\n",
              "      <td>0.000</td>\n",
              "      <td>0.015000</td>\n",
              "      <td>-19.7</td>\n",
              "      <td>-20.70</td>\n",
              "      <td>0.013000</td>\n",
              "      <td>0.554000</td>\n",
              "      <td>-0.256000</td>\n",
              "      <td>-0.532000</td>\n",
              "      <td>-0.064000</td>\n",
              "      <td>-0.788000</td>\n",
              "    </tr>\n",
              "    <tr>\n",
              "      <th>794933</th>\n",
              "      <td>0.145000</td>\n",
              "      <td>0.060000</td>\n",
              "      <td>0.036000</td>\n",
              "      <td>0.096000</td>\n",
              "      <td>0.096000</td>\n",
              "      <td>0.108000</td>\n",
              "      <td>0.012000</td>\n",
              "      <td>0.060000</td>\n",
              "      <td>0.024000</td>\n",
              "      <td>0.048000</td>\n",
              "      <td>...</td>\n",
              "      <td>0.000</td>\n",
              "      <td>0.043000</td>\n",
              "      <td>-25.2</td>\n",
              "      <td>-26.49</td>\n",
              "      <td>0.015000</td>\n",
              "      <td>0.188000</td>\n",
              "      <td>-0.300000</td>\n",
              "      <td>-0.663000</td>\n",
              "      <td>-0.075000</td>\n",
              "      <td>-1.050000</td>\n",
              "    </tr>\n",
              "    <tr>\n",
              "      <th>457905</th>\n",
              "      <td>0.200000</td>\n",
              "      <td>0.010000</td>\n",
              "      <td>0.050000</td>\n",
              "      <td>0.110000</td>\n",
              "      <td>0.040000</td>\n",
              "      <td>0.050000</td>\n",
              "      <td>0.000000</td>\n",
              "      <td>0.020000</td>\n",
              "      <td>0.000000</td>\n",
              "      <td>0.000000</td>\n",
              "      <td>...</td>\n",
              "      <td>0.032</td>\n",
              "      <td>0.140000</td>\n",
              "      <td>-6.3</td>\n",
              "      <td>-8.92</td>\n",
              "      <td>0.026000</td>\n",
              "      <td>0.716000</td>\n",
              "      <td>-0.062000</td>\n",
              "      <td>-0.300000</td>\n",
              "      <td>-0.021000</td>\n",
              "      <td>-0.286000</td>\n",
              "    </tr>\n",
              "    <tr>\n",
              "      <th>962211</th>\n",
              "      <td>0.190000</td>\n",
              "      <td>0.063000</td>\n",
              "      <td>0.000000</td>\n",
              "      <td>0.177000</td>\n",
              "      <td>0.089000</td>\n",
              "      <td>0.051000</td>\n",
              "      <td>0.013000</td>\n",
              "      <td>0.038000</td>\n",
              "      <td>0.000000</td>\n",
              "      <td>0.013000</td>\n",
              "      <td>...</td>\n",
              "      <td>0.000</td>\n",
              "      <td>0.121000</td>\n",
              "      <td>-1.1</td>\n",
              "      <td>-2.63</td>\n",
              "      <td>0.019000</td>\n",
              "      <td>0.557000</td>\n",
              "      <td>-0.014000</td>\n",
              "      <td>-0.055000</td>\n",
              "      <td>-0.007000</td>\n",
              "      <td>-0.065000</td>\n",
              "    </tr>\n",
              "    <tr>\n",
              "      <th>741793</th>\n",
              "      <td>0.026000</td>\n",
              "      <td>0.039000</td>\n",
              "      <td>0.039000</td>\n",
              "      <td>0.091000</td>\n",
              "      <td>0.039000</td>\n",
              "      <td>0.078000</td>\n",
              "      <td>0.039000</td>\n",
              "      <td>0.052000</td>\n",
              "      <td>0.065000</td>\n",
              "      <td>0.013000</td>\n",
              "      <td>...</td>\n",
              "      <td>0.013</td>\n",
              "      <td>0.066000</td>\n",
              "      <td>-17.3</td>\n",
              "      <td>-19.52</td>\n",
              "      <td>0.028000</td>\n",
              "      <td>0.525000</td>\n",
              "      <td>-0.222000</td>\n",
              "      <td>-0.509000</td>\n",
              "      <td>-0.074000</td>\n",
              "      <td>-0.692000</td>\n",
              "    </tr>\n",
              "  </tbody>\n",
              "</table>\n",
              "<p>1138 rows × 56 columns</p>\n",
              "</div>\n",
              "      <button class=\"colab-df-convert\" onclick=\"convertToInteractive('df-080a4fad-61c0-492a-82d6-d451a7a61d45')\"\n",
              "              title=\"Convert this dataframe to an interactive table.\"\n",
              "              style=\"display:none;\">\n",
              "        \n",
              "  <svg xmlns=\"http://www.w3.org/2000/svg\" height=\"24px\"viewBox=\"0 0 24 24\"\n",
              "       width=\"24px\">\n",
              "    <path d=\"M0 0h24v24H0V0z\" fill=\"none\"/>\n",
              "    <path d=\"M18.56 5.44l.94 2.06.94-2.06 2.06-.94-2.06-.94-.94-2.06-.94 2.06-2.06.94zm-11 1L8.5 8.5l.94-2.06 2.06-.94-2.06-.94L8.5 2.5l-.94 2.06-2.06.94zm10 10l.94 2.06.94-2.06 2.06-.94-2.06-.94-.94-2.06-.94 2.06-2.06.94z\"/><path d=\"M17.41 7.96l-1.37-1.37c-.4-.4-.92-.59-1.43-.59-.52 0-1.04.2-1.43.59L10.3 9.45l-7.72 7.72c-.78.78-.78 2.05 0 2.83L4 21.41c.39.39.9.59 1.41.59.51 0 1.02-.2 1.41-.59l7.78-7.78 2.81-2.81c.8-.78.8-2.07 0-2.86zM5.41 20L4 18.59l7.72-7.72 1.47 1.35L5.41 20z\"/>\n",
              "  </svg>\n",
              "      </button>\n",
              "      \n",
              "  <style>\n",
              "    .colab-df-container {\n",
              "      display:flex;\n",
              "      flex-wrap:wrap;\n",
              "      gap: 12px;\n",
              "    }\n",
              "\n",
              "    .colab-df-convert {\n",
              "      background-color: #E8F0FE;\n",
              "      border: none;\n",
              "      border-radius: 50%;\n",
              "      cursor: pointer;\n",
              "      display: none;\n",
              "      fill: #1967D2;\n",
              "      height: 32px;\n",
              "      padding: 0 0 0 0;\n",
              "      width: 32px;\n",
              "    }\n",
              "\n",
              "    .colab-df-convert:hover {\n",
              "      background-color: #E2EBFA;\n",
              "      box-shadow: 0px 1px 2px rgba(60, 64, 67, 0.3), 0px 1px 3px 1px rgba(60, 64, 67, 0.15);\n",
              "      fill: #174EA6;\n",
              "    }\n",
              "\n",
              "    [theme=dark] .colab-df-convert {\n",
              "      background-color: #3B4455;\n",
              "      fill: #D2E3FC;\n",
              "    }\n",
              "\n",
              "    [theme=dark] .colab-df-convert:hover {\n",
              "      background-color: #434B5C;\n",
              "      box-shadow: 0px 1px 3px 1px rgba(0, 0, 0, 0.15);\n",
              "      filter: drop-shadow(0px 1px 2px rgba(0, 0, 0, 0.3));\n",
              "      fill: #FFFFFF;\n",
              "    }\n",
              "  </style>\n",
              "\n",
              "      <script>\n",
              "        const buttonEl =\n",
              "          document.querySelector('#df-080a4fad-61c0-492a-82d6-d451a7a61d45 button.colab-df-convert');\n",
              "        buttonEl.style.display =\n",
              "          google.colab.kernel.accessAllowed ? 'block' : 'none';\n",
              "\n",
              "        async function convertToInteractive(key) {\n",
              "          const element = document.querySelector('#df-080a4fad-61c0-492a-82d6-d451a7a61d45');\n",
              "          const dataTable =\n",
              "            await google.colab.kernel.invokeFunction('convertToInteractive',\n",
              "                                                     [key], {});\n",
              "          if (!dataTable) return;\n",
              "\n",
              "          const docLinkHtml = 'Like what you see? Visit the ' +\n",
              "            '<a target=\"_blank\" href=https://colab.research.google.com/notebooks/data_table.ipynb>data table notebook</a>'\n",
              "            + ' to learn more about interactive tables.';\n",
              "          element.innerHTML = '';\n",
              "          dataTable['output_type'] = 'display_data';\n",
              "          await google.colab.output.renderOutput(dataTable, element);\n",
              "          const docLink = document.createElement('div');\n",
              "          docLink.innerHTML = docLinkHtml;\n",
              "          element.appendChild(docLink);\n",
              "        }\n",
              "      </script>\n",
              "    </div>\n",
              "  </div>\n",
              "  "
            ]
          },
          "metadata": {},
          "execution_count": 49
        }
      ]
    },
    {
      "cell_type": "code",
      "source": [
        "from sklearn.preprocessing import StandardScaler, LabelEncoder\n",
        "en = LabelEncoder()\n",
        "en_y = en.fit_transform(new_y)\n",
        "\n",
        "F_y = tf.keras.utils.to_categorical(en_y)"
      ],
      "metadata": {
        "id": "yWEOfS3Bu5KZ"
      },
      "execution_count": 50,
      "outputs": []
    },
    {
      "cell_type": "code",
      "source": [
        "from sklearn.model_selection import train_test_split\n",
        "\n",
        "seed = 7\n",
        "np.random.seed(seed)\n",
        "x_train,x_test,y_train,y_test = train_test_split(new_X,F_y,test_size=0.20,random_state=seed,stratify=en_y,shuffle=True)\n",
        "st = StandardScaler()\n",
        "st_xtrain = st.fit_transform(x_train)\n",
        "st_xtest = st.fit_transform(x_test)"
      ],
      "metadata": {
        "id": "PTEhC3l3u8NA"
      },
      "execution_count": 51,
      "outputs": []
    },
    {
      "cell_type": "code",
      "source": [
        "from sklearn.preprocessing import StandardScaler\n",
        "st = StandardScaler()\n",
        "st_xtrain = st.fit_transform(x_train)\n",
        "st_xtest = st.fit_transform(x_test)"
      ],
      "metadata": {
        "id": "zXNO9aETvCin"
      },
      "execution_count": 52,
      "outputs": []
    },
    {
      "cell_type": "code",
      "source": [
        "import tensorflow as tf\n",
        "\n",
        "AN = tf.keras.models.Sequential()\n",
        "AN.add(tf.keras.layers.Dense(1024, input_dim=56, activation=tf.nn.relu))\n",
        "AN.add(tf.keras.layers.Dense(512, activation=tf.nn.relu))\n",
        "AN.add(tf.keras.layers.BatchNormalization())\n",
        "AN.add(tf.keras.layers.Dense(512, activation=tf.nn.relu))\n",
        "AN.add(tf.keras.layers.Dense(256, activation=tf.nn.relu))\n",
        "AN.add(tf.keras.layers.BatchNormalization())\n",
        "AN.add(tf.keras.layers.Dense(256, activation=tf.nn.relu))\n",
        "AN.add(tf.keras.layers.Dense(128, activation=tf.nn.relu))\n",
        "AN.add(tf.keras.layers.BatchNormalization())\n",
        "AN.add(tf.keras.layers.Dense(128, activation=tf.nn.relu))\n",
        "AN.add(tf.keras.layers.Dense(64, activation=tf.nn.relu))\n",
        "AN.add(tf.keras.layers.BatchNormalization())\n",
        "AN.add(tf.keras.layers.Dense(64, activation=tf.nn.relu))\n",
        "AN.add(tf.keras.layers.Dense(32, activation=tf.nn.relu))\n",
        "AN.add(tf.keras.layers.Dense(16, activation=tf.nn.relu))\n",
        "AN.add(tf.keras.layers.BatchNormalization())\n",
        "AN.add(tf.keras.layers.Dense(16, activation=tf.nn.relu))\n",
        "AN.add(tf.keras.layers.Dense(2, activation=tf.nn.sigmoid))"
      ],
      "metadata": {
        "id": "ikggFP-kvPCo"
      },
      "execution_count": 27,
      "outputs": []
    },
    {
      "cell_type": "code",
      "source": [
        "AN.compile(optimizer='adam', loss='binary_crossentropy', metrics=['accuracy'])\n",
        "\n",
        "history = AN.fit(st_xtrain, y_train,validation_data=(st_xtest,y_test),epochs=90, batch_size=10)"
      ],
      "metadata": {
        "colab": {
          "base_uri": "https://localhost:8080/"
        },
        "id": "UdYT6b5WvjKs",
        "outputId": "7d2073c2-6af8-43f2-bf7b-0c2265e94ac6"
      },
      "execution_count": 53,
      "outputs": [
        {
          "output_type": "stream",
          "name": "stdout",
          "text": [
            "Epoch 1/90\n",
            "91/91 [==============================] - 3s 17ms/step - loss: 1.9107 - accuracy: 0.5000 - val_loss: 0.8639 - val_accuracy: 0.5000\n",
            "Epoch 2/90\n",
            "91/91 [==============================] - 1s 14ms/step - loss: 0.5603 - accuracy: 0.7286 - val_loss: 0.3720 - val_accuracy: 0.8947\n",
            "Epoch 3/90\n",
            "91/91 [==============================] - 1s 13ms/step - loss: 0.4032 - accuracy: 0.8549 - val_loss: 0.2599 - val_accuracy: 0.9167\n",
            "Epoch 4/90\n",
            "91/91 [==============================] - 1s 14ms/step - loss: 0.3135 - accuracy: 0.8934 - val_loss: 0.2244 - val_accuracy: 0.9386\n",
            "Epoch 5/90\n",
            "91/91 [==============================] - 1s 14ms/step - loss: 0.2714 - accuracy: 0.9110 - val_loss: 0.2384 - val_accuracy: 0.8991\n",
            "Epoch 6/90\n",
            "91/91 [==============================] - 1s 15ms/step - loss: 0.2488 - accuracy: 0.9077 - val_loss: 0.2957 - val_accuracy: 0.9298\n",
            "Epoch 7/90\n",
            "91/91 [==============================] - 1s 14ms/step - loss: 0.2595 - accuracy: 0.9066 - val_loss: 0.2420 - val_accuracy: 0.9211\n",
            "Epoch 8/90\n",
            "91/91 [==============================] - 1s 13ms/step - loss: 0.2434 - accuracy: 0.9187 - val_loss: 0.2900 - val_accuracy: 0.8991\n",
            "Epoch 9/90\n",
            "91/91 [==============================] - 1s 13ms/step - loss: 0.1990 - accuracy: 0.9330 - val_loss: 0.2798 - val_accuracy: 0.9254\n",
            "Epoch 10/90\n",
            "91/91 [==============================] - 1s 13ms/step - loss: 0.1900 - accuracy: 0.9418 - val_loss: 0.1950 - val_accuracy: 0.9211\n",
            "Epoch 11/90\n",
            "91/91 [==============================] - 1s 13ms/step - loss: 0.1862 - accuracy: 0.9352 - val_loss: 0.2876 - val_accuracy: 0.9167\n",
            "Epoch 12/90\n",
            "91/91 [==============================] - 1s 14ms/step - loss: 0.2491 - accuracy: 0.9099 - val_loss: 0.2158 - val_accuracy: 0.9254\n",
            "Epoch 13/90\n",
            "91/91 [==============================] - 1s 14ms/step - loss: 0.1835 - accuracy: 0.9352 - val_loss: 0.1959 - val_accuracy: 0.9386\n",
            "Epoch 14/90\n",
            "91/91 [==============================] - 1s 14ms/step - loss: 0.1370 - accuracy: 0.9560 - val_loss: 0.1969 - val_accuracy: 0.9254\n",
            "Epoch 15/90\n",
            "91/91 [==============================] - 1s 14ms/step - loss: 0.1505 - accuracy: 0.9549 - val_loss: 0.1856 - val_accuracy: 0.9342\n",
            "Epoch 16/90\n",
            "91/91 [==============================] - 1s 13ms/step - loss: 0.1362 - accuracy: 0.9527 - val_loss: 0.2296 - val_accuracy: 0.9342\n",
            "Epoch 17/90\n",
            "91/91 [==============================] - 1s 14ms/step - loss: 0.1484 - accuracy: 0.9549 - val_loss: 0.2531 - val_accuracy: 0.9298\n",
            "Epoch 18/90\n",
            "91/91 [==============================] - 1s 14ms/step - loss: 0.1341 - accuracy: 0.9637 - val_loss: 0.2320 - val_accuracy: 0.9298\n",
            "Epoch 19/90\n",
            "91/91 [==============================] - 1s 14ms/step - loss: 0.1551 - accuracy: 0.9484 - val_loss: 0.2347 - val_accuracy: 0.9298\n",
            "Epoch 20/90\n",
            "91/91 [==============================] - 1s 14ms/step - loss: 0.1502 - accuracy: 0.9516 - val_loss: 0.2833 - val_accuracy: 0.9167\n",
            "Epoch 21/90\n",
            "91/91 [==============================] - 1s 15ms/step - loss: 0.1127 - accuracy: 0.9659 - val_loss: 0.2260 - val_accuracy: 0.9298\n",
            "Epoch 22/90\n",
            "91/91 [==============================] - 1s 14ms/step - loss: 0.1146 - accuracy: 0.9670 - val_loss: 0.2519 - val_accuracy: 0.9342\n",
            "Epoch 23/90\n",
            "91/91 [==============================] - 1s 14ms/step - loss: 0.0931 - accuracy: 0.9725 - val_loss: 0.2676 - val_accuracy: 0.9167\n",
            "Epoch 24/90\n",
            "91/91 [==============================] - 1s 14ms/step - loss: 0.0736 - accuracy: 0.9758 - val_loss: 0.2529 - val_accuracy: 0.9386\n",
            "Epoch 25/90\n",
            "91/91 [==============================] - 1s 14ms/step - loss: 0.0642 - accuracy: 0.9780 - val_loss: 0.2512 - val_accuracy: 0.9298\n",
            "Epoch 26/90\n",
            "91/91 [==============================] - 1s 14ms/step - loss: 0.0813 - accuracy: 0.9692 - val_loss: 0.2612 - val_accuracy: 0.9386\n",
            "Epoch 27/90\n",
            "91/91 [==============================] - 1s 14ms/step - loss: 0.0587 - accuracy: 0.9813 - val_loss: 0.2719 - val_accuracy: 0.9386\n",
            "Epoch 28/90\n",
            "91/91 [==============================] - 1s 13ms/step - loss: 0.0610 - accuracy: 0.9780 - val_loss: 0.2512 - val_accuracy: 0.9430\n",
            "Epoch 29/90\n",
            "91/91 [==============================] - 1s 14ms/step - loss: 0.0426 - accuracy: 0.9890 - val_loss: 0.2559 - val_accuracy: 0.9430\n",
            "Epoch 30/90\n",
            "91/91 [==============================] - 1s 13ms/step - loss: 0.0299 - accuracy: 0.9901 - val_loss: 0.2712 - val_accuracy: 0.9342\n",
            "Epoch 31/90\n",
            "91/91 [==============================] - 1s 13ms/step - loss: 0.0662 - accuracy: 0.9780 - val_loss: 0.1985 - val_accuracy: 0.9518\n",
            "Epoch 32/90\n",
            "91/91 [==============================] - 1s 13ms/step - loss: 0.0760 - accuracy: 0.9813 - val_loss: 0.3627 - val_accuracy: 0.9254\n",
            "Epoch 33/90\n",
            "91/91 [==============================] - 1s 13ms/step - loss: 0.0376 - accuracy: 0.9901 - val_loss: 0.2837 - val_accuracy: 0.9386\n",
            "Epoch 34/90\n",
            "91/91 [==============================] - 1s 14ms/step - loss: 0.0315 - accuracy: 0.9912 - val_loss: 0.2573 - val_accuracy: 0.9386\n",
            "Epoch 35/90\n",
            "91/91 [==============================] - 1s 14ms/step - loss: 0.0649 - accuracy: 0.9824 - val_loss: 0.3105 - val_accuracy: 0.9342\n",
            "Epoch 36/90\n",
            "91/91 [==============================] - 1s 14ms/step - loss: 0.0403 - accuracy: 0.9923 - val_loss: 0.4245 - val_accuracy: 0.8947\n",
            "Epoch 37/90\n",
            "91/91 [==============================] - 1s 15ms/step - loss: 0.0868 - accuracy: 0.9736 - val_loss: 0.2310 - val_accuracy: 0.9518\n",
            "Epoch 38/90\n",
            "91/91 [==============================] - 1s 14ms/step - loss: 0.0315 - accuracy: 0.9901 - val_loss: 0.2731 - val_accuracy: 0.9298\n",
            "Epoch 39/90\n",
            "91/91 [==============================] - 1s 14ms/step - loss: 0.0123 - accuracy: 0.9989 - val_loss: 0.2941 - val_accuracy: 0.9342\n",
            "Epoch 40/90\n",
            "91/91 [==============================] - 1s 14ms/step - loss: 0.0269 - accuracy: 0.9901 - val_loss: 0.3846 - val_accuracy: 0.8947\n",
            "Epoch 41/90\n",
            "91/91 [==============================] - 1s 13ms/step - loss: 0.0321 - accuracy: 0.9857 - val_loss: 0.3221 - val_accuracy: 0.9430\n",
            "Epoch 42/90\n",
            "91/91 [==============================] - 1s 14ms/step - loss: 0.0421 - accuracy: 0.9846 - val_loss: 0.2869 - val_accuracy: 0.9430\n",
            "Epoch 43/90\n",
            "91/91 [==============================] - 1s 13ms/step - loss: 0.0177 - accuracy: 0.9956 - val_loss: 0.4007 - val_accuracy: 0.9298\n",
            "Epoch 44/90\n",
            "91/91 [==============================] - 1s 15ms/step - loss: 0.0319 - accuracy: 0.9923 - val_loss: 0.3161 - val_accuracy: 0.9430\n",
            "Epoch 45/90\n",
            "91/91 [==============================] - 1s 14ms/step - loss: 0.0090 - accuracy: 0.9978 - val_loss: 0.2847 - val_accuracy: 0.9430\n",
            "Epoch 46/90\n",
            "91/91 [==============================] - 1s 14ms/step - loss: 0.0062 - accuracy: 1.0000 - val_loss: 0.2881 - val_accuracy: 0.9430\n",
            "Epoch 47/90\n",
            "91/91 [==============================] - 1s 14ms/step - loss: 0.0214 - accuracy: 0.9934 - val_loss: 0.2484 - val_accuracy: 0.9518\n",
            "Epoch 48/90\n",
            "91/91 [==============================] - 1s 14ms/step - loss: 0.0187 - accuracy: 0.9934 - val_loss: 0.2167 - val_accuracy: 0.9561\n",
            "Epoch 49/90\n",
            "91/91 [==============================] - 1s 13ms/step - loss: 0.0872 - accuracy: 0.9725 - val_loss: 0.3407 - val_accuracy: 0.9211\n",
            "Epoch 50/90\n",
            "91/91 [==============================] - 1s 14ms/step - loss: 0.0680 - accuracy: 0.9780 - val_loss: 0.3596 - val_accuracy: 0.9430\n",
            "Epoch 51/90\n",
            "91/91 [==============================] - 1s 14ms/step - loss: 0.0128 - accuracy: 0.9989 - val_loss: 0.3086 - val_accuracy: 0.9474\n",
            "Epoch 52/90\n",
            "91/91 [==============================] - 1s 14ms/step - loss: 0.0305 - accuracy: 0.9934 - val_loss: 0.3273 - val_accuracy: 0.9386\n",
            "Epoch 53/90\n",
            "91/91 [==============================] - 1s 14ms/step - loss: 0.0294 - accuracy: 0.9934 - val_loss: 0.4051 - val_accuracy: 0.9298\n",
            "Epoch 54/90\n",
            "91/91 [==============================] - 1s 14ms/step - loss: 0.0111 - accuracy: 0.9978 - val_loss: 0.3347 - val_accuracy: 0.9430\n",
            "Epoch 55/90\n",
            "91/91 [==============================] - 1s 14ms/step - loss: 0.0075 - accuracy: 0.9989 - val_loss: 0.3048 - val_accuracy: 0.9474\n",
            "Epoch 56/90\n",
            "91/91 [==============================] - 1s 14ms/step - loss: 0.0115 - accuracy: 0.9967 - val_loss: 0.2949 - val_accuracy: 0.9386\n",
            "Epoch 57/90\n",
            "91/91 [==============================] - 1s 14ms/step - loss: 0.0051 - accuracy: 0.9989 - val_loss: 0.2908 - val_accuracy: 0.9430\n",
            "Epoch 58/90\n",
            "91/91 [==============================] - 1s 14ms/step - loss: 0.0215 - accuracy: 0.9956 - val_loss: 0.3080 - val_accuracy: 0.9474\n",
            "Epoch 59/90\n",
            "91/91 [==============================] - 1s 14ms/step - loss: 0.0071 - accuracy: 0.9989 - val_loss: 0.2981 - val_accuracy: 0.9518\n",
            "Epoch 60/90\n",
            "91/91 [==============================] - 1s 15ms/step - loss: 0.0678 - accuracy: 0.9835 - val_loss: 0.3389 - val_accuracy: 0.9298\n",
            "Epoch 61/90\n",
            "91/91 [==============================] - 1s 14ms/step - loss: 0.0160 - accuracy: 0.9967 - val_loss: 0.3067 - val_accuracy: 0.9474\n",
            "Epoch 62/90\n",
            "91/91 [==============================] - 1s 14ms/step - loss: 0.0263 - accuracy: 0.9923 - val_loss: 0.2717 - val_accuracy: 0.9561\n",
            "Epoch 63/90\n",
            "91/91 [==============================] - 1s 14ms/step - loss: 0.0025 - accuracy: 1.0000 - val_loss: 0.3043 - val_accuracy: 0.9474\n",
            "Epoch 64/90\n",
            "91/91 [==============================] - 1s 14ms/step - loss: 0.0026 - accuracy: 1.0000 - val_loss: 0.2812 - val_accuracy: 0.9518\n",
            "Epoch 65/90\n",
            "91/91 [==============================] - 1s 14ms/step - loss: 0.0582 - accuracy: 0.9868 - val_loss: 1.2852 - val_accuracy: 0.7588\n",
            "Epoch 66/90\n",
            "91/91 [==============================] - 1s 14ms/step - loss: 0.0570 - accuracy: 0.9802 - val_loss: 0.4676 - val_accuracy: 0.9254\n",
            "Epoch 67/90\n",
            "91/91 [==============================] - 1s 14ms/step - loss: 0.0375 - accuracy: 0.9890 - val_loss: 0.3978 - val_accuracy: 0.8684\n",
            "Epoch 68/90\n",
            "91/91 [==============================] - 1s 14ms/step - loss: 0.0905 - accuracy: 0.9813 - val_loss: 0.1925 - val_accuracy: 0.9386\n",
            "Epoch 69/90\n",
            "91/91 [==============================] - 1s 14ms/step - loss: 0.0577 - accuracy: 0.9868 - val_loss: 0.2835 - val_accuracy: 0.9298\n",
            "Epoch 70/90\n",
            "91/91 [==============================] - 1s 14ms/step - loss: 0.0609 - accuracy: 0.9868 - val_loss: 0.3049 - val_accuracy: 0.9342\n",
            "Epoch 71/90\n",
            "91/91 [==============================] - 1s 14ms/step - loss: 0.0381 - accuracy: 0.9901 - val_loss: 0.3012 - val_accuracy: 0.9430\n",
            "Epoch 72/90\n",
            "91/91 [==============================] - 1s 15ms/step - loss: 0.0168 - accuracy: 0.9945 - val_loss: 0.3851 - val_accuracy: 0.9211\n",
            "Epoch 73/90\n",
            "91/91 [==============================] - 1s 15ms/step - loss: 0.0446 - accuracy: 0.9868 - val_loss: 0.2832 - val_accuracy: 0.9430\n",
            "Epoch 74/90\n",
            "91/91 [==============================] - 1s 14ms/step - loss: 0.0232 - accuracy: 0.9956 - val_loss: 0.2991 - val_accuracy: 0.9298\n",
            "Epoch 75/90\n",
            "91/91 [==============================] - 1s 14ms/step - loss: 0.0300 - accuracy: 0.9923 - val_loss: 0.3947 - val_accuracy: 0.9123\n",
            "Epoch 76/90\n",
            "91/91 [==============================] - 1s 14ms/step - loss: 0.0587 - accuracy: 0.9835 - val_loss: 0.2858 - val_accuracy: 0.9342\n",
            "Epoch 77/90\n",
            "91/91 [==============================] - 1s 14ms/step - loss: 0.0282 - accuracy: 0.9879 - val_loss: 0.3132 - val_accuracy: 0.9342\n",
            "Epoch 78/90\n",
            "91/91 [==============================] - 1s 14ms/step - loss: 0.0128 - accuracy: 0.9967 - val_loss: 0.2520 - val_accuracy: 0.9518\n",
            "Epoch 79/90\n",
            "91/91 [==============================] - 1s 14ms/step - loss: 0.0052 - accuracy: 0.9989 - val_loss: 0.2976 - val_accuracy: 0.9342\n",
            "Epoch 80/90\n",
            "91/91 [==============================] - 1s 14ms/step - loss: 0.0239 - accuracy: 0.9945 - val_loss: 0.2433 - val_accuracy: 0.9518\n",
            "Epoch 81/90\n",
            "91/91 [==============================] - 1s 14ms/step - loss: 0.0372 - accuracy: 0.9901 - val_loss: 0.2634 - val_accuracy: 0.9035\n",
            "Epoch 82/90\n",
            "91/91 [==============================] - 1s 14ms/step - loss: 0.0364 - accuracy: 0.9890 - val_loss: 0.2505 - val_accuracy: 0.9386\n",
            "Epoch 83/90\n",
            "91/91 [==============================] - 1s 15ms/step - loss: 0.0370 - accuracy: 0.9923 - val_loss: 0.2317 - val_accuracy: 0.9386\n",
            "Epoch 84/90\n",
            "91/91 [==============================] - 1s 14ms/step - loss: 0.0220 - accuracy: 0.9945 - val_loss: 0.2516 - val_accuracy: 0.9430\n",
            "Epoch 85/90\n",
            "91/91 [==============================] - 1s 14ms/step - loss: 0.0423 - accuracy: 0.9846 - val_loss: 0.2493 - val_accuracy: 0.9386\n",
            "Epoch 86/90\n",
            "91/91 [==============================] - 1s 14ms/step - loss: 0.0200 - accuracy: 0.9934 - val_loss: 0.3228 - val_accuracy: 0.9386\n",
            "Epoch 87/90\n",
            "91/91 [==============================] - 1s 14ms/step - loss: 0.0026 - accuracy: 1.0000 - val_loss: 0.2695 - val_accuracy: 0.9430\n",
            "Epoch 88/90\n",
            "91/91 [==============================] - 1s 14ms/step - loss: 0.0027 - accuracy: 1.0000 - val_loss: 0.3080 - val_accuracy: 0.9386\n",
            "Epoch 89/90\n",
            "91/91 [==============================] - 1s 15ms/step - loss: 0.0129 - accuracy: 0.9956 - val_loss: 0.3184 - val_accuracy: 0.9430\n",
            "Epoch 90/90\n",
            "91/91 [==============================] - 1s 14ms/step - loss: 0.0525 - accuracy: 0.9879 - val_loss: 0.3059 - val_accuracy: 0.9518\n"
          ]
        }
      ]
    },
    {
      "cell_type": "code",
      "source": [
        "AN.evaluate(st_xtest,y_test)"
      ],
      "metadata": {
        "colab": {
          "base_uri": "https://localhost:8080/"
        },
        "id": "LroOcySAz8_G",
        "outputId": "7eb6e074-d240-452f-9946-1b1e7c4d2229"
      },
      "execution_count": 54,
      "outputs": [
        {
          "output_type": "stream",
          "name": "stdout",
          "text": [
            "8/8 [==============================] - 0s 5ms/step - loss: 0.3059 - accuracy: 0.9518\n"
          ]
        },
        {
          "output_type": "execute_result",
          "data": {
            "text/plain": [
              "[0.30591753125190735, 0.9517543911933899]"
            ]
          },
          "metadata": {},
          "execution_count": 54
        }
      ]
    },
    {
      "cell_type": "code",
      "source": [
        "plt.plot(history.history['accuracy'])\n",
        "plt.plot(history.history['val_accuracy'])\n",
        "plt.title('RUNN-COV Model Accuracy (Feature selection approach)')\n",
        "plt.ylabel('acuuracy')\n",
        "plt.xlabel('epoch')\n",
        "plt.legend(['train', 'test'], loc='upper left')\n",
        "plt.show()"
      ],
      "metadata": {
        "colab": {
          "base_uri": "https://localhost:8080/",
          "height": 295
        },
        "id": "zSDKjl_90zq9",
        "outputId": "3f090d7e-c9dc-46f9-903f-280cc13387a6"
      },
      "execution_count": 56,
      "outputs": [
        {
          "output_type": "display_data",
          "data": {
            "text/plain": [
              "<Figure size 432x288 with 1 Axes>"
            ],
            "image/png": "[encoded data removed]"
          },
          "metadata": {
            "needs_background": "light"
          }
        }
      ]
    },
    {
      "cell_type": "code",
      "source": [
        "plt.plot(history.history['loss'])\n",
        "plt.plot(history.history['val_loss'])\n",
        "plt.title('RUNN-COV Model Loss (Feature selection approach)')\n",
        "plt.ylabel('loss')\n",
        "plt.xlabel('epoch')\n",
        "plt.legend(['train', 'test'], loc='upper left')\n",
        "plt.show()"
      ],
      "metadata": {
        "colab": {
          "base_uri": "https://localhost:8080/",
          "height": 295
        },
        "id": "UACPzqPU1l71",
        "outputId": "f916180b-c5b2-4d3e-d164-5f7d02109d03"
      },
      "execution_count": 57,
      "outputs": [
        {
          "output_type": "display_data",
          "data": {
            "text/plain": [
              "<Figure size 432x288 with 1 Axes>"
            ],
            "image/png": "[encoded data removed]"
          },
          "metadata": {
            "needs_background": "light"
          }
        }
      ]
    },
    {
      "cell_type": "code",
      "source": [
        "prediction = AN.predict(st_xtest)"
      ],
      "metadata": {
        "id": "UG1hEIO61pWN"
      },
      "execution_count": 58,
      "outputs": []
    },
    {
      "cell_type": "code",
      "source": [
        "from sklearn.metrics import confusion_matrix\n",
        "\n",
        "ocm=confusion_matrix(y_test.argmax(axis=1),prediction.argmax(axis=1))\n",
        "plt.title('RUNN-COV Model (Feature selection approach)')\n",
        "sns.heatmap(ocm,annot=True,fmt=\"d\")"
      ],
      "metadata": {
        "colab": {
          "base_uri": "https://localhost:8080/",
          "height": 298
        },
        "id": "R2SsLBX71som",
        "outputId": "9a3ac366-c98b-4dd9-e8b7-558fb9708be8"
      },
      "execution_count": 59,
      "outputs": [
        {
          "output_type": "execute_result",
          "data": {
            "text/plain": [
              "<matplotlib.axes._subplots.AxesSubplot at 0x7f7088d484d0>"
            ]
          },
          "metadata": {},
          "execution_count": 59
        },
        {
          "output_type": "display_data",
          "data": {
            "text/plain": [
              "<Figure size 432x288 with 2 Axes>"
            ],
            "image/png": "[encoded data removed]"
          },
          "metadata": {
            "needs_background": "light"
          }
        }
      ]
    },
    {
      "cell_type": "code",
      "source": [
        "from sklearn.metrics import matthews_corrcoef,cohen_kappa_score,hamming_loss\n",
        "from sklearn import metrics\n",
        "print(\"matthews_corrcoef\",matthews_corrcoef(y_test.argmax(axis=1), prediction.argmax(axis=1)))\n",
        "print(\"cohen_kappa_score\",cohen_kappa_score(y_test.argmax(axis=1), prediction.argmax(axis=1)))\n",
        "print(\"hamming_loss_score\",hamming_loss(y_test.argmax(axis=1), prediction.argmax(axis=1)))\n",
        "print(\"Precision_score\", metrics.precision_score(y_test.argmax(axis=1), prediction.argmax(axis=1)))\n",
        "print(\"Pecall_score\",metrics.recall_score(y_test.argmax(axis=1), prediction.argmax(axis=1)))\n",
        "print(\"F1_score\",metrics.f1_score(y_test.argmax(axis=1), prediction.argmax(axis=1)))\n",
        "print(\"Accuracy_score\",metrics.accuracy_score(y_test.argmax(axis=1), prediction.argmax(axis=1)))\n",
        "print(\"Roc_auc_score\",metrics.roc_auc_score(y_test.argmax(axis=1),prediction.argmax(axis=1)))\n",
        "print(\"Fbeta_score\",metrics.fbeta_score(y_test.argmax(axis=1), prediction.argmax(axis=1), beta=0.5))\n",
        "print(\"Fbeta_score\",metrics.fbeta_score(y_test.argmax(axis=1), prediction.argmax(axis=1), beta=1))\n",
        "print(\"Fbeta_score\",metrics.fbeta_score(y_test.argmax(axis=1), prediction.argmax(axis=1), beta=2))"
      ],
      "metadata": {
        "colab": {
          "base_uri": "https://localhost:8080/"
        },
        "id": "jBR0gnZE1zoy",
        "outputId": "e48d2255-1d10-4e92-8654-e96eefe46e7e"
      },
      "execution_count": 60,
      "outputs": [
        {
          "output_type": "stream",
          "name": "stdout",
          "text": [
            "matthews_corrcoef 0.9035435349690991\n",
            "cohen_kappa_score 0.9035087719298246\n",
            "hamming_loss_score 0.04824561403508772\n",
            "Precision_score 0.9557522123893806\n",
            "Pecall_score 0.9473684210526315\n",
            "F1_score 0.9515418502202644\n",
            "Accuracy_score 0.9517543859649122\n",
            "Roc_auc_score 0.9517543859649122\n",
            "Fbeta_score 0.9540636042402826\n",
            "Fbeta_score 0.9515418502202644\n",
            "Fbeta_score 0.9490333919156414\n"
          ]
        }
      ]
    },
    {
      "cell_type": "code",
      "source": [
        "seed = 7\n",
        "np.random.seed(seed)\n",
        "x_train,x_test,y_train,y_test = train_test_split(new_X,new_y,test_size=0.20,random_state=seed,shuffle=True)"
      ],
      "metadata": {
        "id": "xcQa_mqb63gu"
      },
      "execution_count": 62,
      "outputs": []
    },
    {
      "cell_type": "code",
      "source": [
        "from sklearn.linear_model import LogisticRegression\n",
        "clf = LogisticRegression()\n",
        "clf.fit(x_train,y_train)"
      ],
      "metadata": {
        "colab": {
          "base_uri": "https://localhost:8080/"
        },
        "id": "KgYiyXtA6NKK",
        "outputId": "8a20cd03-3dcf-4db6-ee85-0ac0624c7eb0"
      },
      "execution_count": 63,
      "outputs": [
        {
          "output_type": "stream",
          "name": "stderr",
          "text": [
            "/usr/local/lib/python3.7/dist-packages/sklearn/linear_model/_logistic.py:818: ConvergenceWarning: lbfgs failed to converge (status=1):\n",
            "STOP: TOTAL NO. of ITERATIONS REACHED LIMIT.\n",
            "\n",
            "Increase the number of iterations (max_iter) or scale the data as shown in:\n",
            "    https://scikit-learn.org/stable/modules/preprocessing.html\n",
            "Please also refer to the documentation for alternative solver options:\n",
            "    https://scikit-learn.org/stable/modules/linear_model.html#logistic-regression\n",
            "  extra_warning_msg=_LOGISTIC_SOLVER_CONVERGENCE_MSG,\n"
          ]
        },
        {
          "output_type": "execute_result",
          "data": {
            "text/plain": [
              "LogisticRegression()"
            ]
          },
          "metadata": {},
          "execution_count": 63
        }
      ]
    },
    {
      "cell_type": "code",
      "source": [
        "predictions = clf.predict(x_test)"
      ],
      "metadata": {
        "id": "O2A0PygN7OD1"
      },
      "execution_count": 64,
      "outputs": []
    },
    {
      "cell_type": "code",
      "source": [
        "from sklearn.metrics import confusion_matrix\n",
        "cm=confusion_matrix(y_test,predictions)\n",
        "plt.title('Logistic Regression (Feature selection approach)')\n",
        "sns.heatmap(cm,annot=True,fmt=\"d\")"
      ],
      "metadata": {
        "colab": {
          "base_uri": "https://localhost:8080/",
          "height": 298
        },
        "id": "Y4gmzYyt7Xlw",
        "outputId": "cbb6cb51-3604-41bb-d76e-e695963740c0"
      },
      "execution_count": 65,
      "outputs": [
        {
          "output_type": "execute_result",
          "data": {
            "text/plain": [
              "<matplotlib.axes._subplots.AxesSubplot at 0x7f7084a30990>"
            ]
          },
          "metadata": {},
          "execution_count": 65
        },
        {
          "output_type": "display_data",
          "data": {
            "text/plain": [
              "<Figure size 432x288 with 2 Axes>"
            ],
            "image/png": "[encoded data removed]"
          },
          "metadata": {
            "needs_background": "light"
          }
        }
      ]
    },
    {
      "cell_type": "code",
      "source": [
        "print(\"matthews_corrcoef\",matthews_corrcoef(y_test, predictions))\n",
        "print(\"cohen_kappa_score\",cohen_kappa_score(y_test, predictions))\n",
        "print(\"hamming_loss_score\",hamming_loss(y_test, predictions))\n",
        "print(\"Precision_score\", metrics.precision_score(y_test, predictions))\n",
        "print(\"Pecall_score\",metrics.recall_score(y_test, predictions))\n",
        "print(\"F1_score\",metrics.f1_score(y_test, predictions))\n",
        "print(\"Accuracy_score\",metrics.accuracy_score(y_test, predictions))\n",
        "print(\"Roc_auc_score\",metrics.roc_auc_score(y_test,predictions))\n",
        "print(\"Fbeta_score\",metrics.fbeta_score(y_test, predictions, beta=0.5))\n",
        "print(\"Fbeta_score\",metrics.fbeta_score(y_test, predictions, beta=1))\n",
        "print(\"Fbeta_score\",metrics.fbeta_score(y_test, predictions, beta=2))"
      ],
      "metadata": {
        "colab": {
          "base_uri": "https://localhost:8080/"
        },
        "id": "zFdfkBZ17iCJ",
        "outputId": "67320e72-e1aa-44bc-e588-f35ca167533d"
      },
      "execution_count": 66,
      "outputs": [
        {
          "output_type": "stream",
          "name": "stdout",
          "text": [
            "matthews_corrcoef 0.7894088669950738\n",
            "cohen_kappa_score 0.7894088669950738\n",
            "hamming_loss_score 0.10526315789473684\n",
            "Precision_score 0.8928571428571429\n",
            "Pecall_score 0.8928571428571429\n",
            "F1_score 0.8928571428571429\n",
            "Accuracy_score 0.8947368421052632\n",
            "Roc_auc_score 0.8947044334975369\n",
            "Fbeta_score 0.8928571428571429\n",
            "Fbeta_score 0.8928571428571429\n",
            "Fbeta_score 0.8928571428571429\n"
          ]
        }
      ]
    },
    {
      "cell_type": "code",
      "source": [
        "neigh = KNeighborsClassifier()\n",
        "neigh.fit(x_train, y_train)"
      ],
      "metadata": {
        "colab": {
          "base_uri": "https://localhost:8080/"
        },
        "id": "SkmDFfZM7xny",
        "outputId": "c2ae8fcd-a99e-4e21-8508-8a6e1d0f2617"
      },
      "execution_count": 67,
      "outputs": [
        {
          "output_type": "execute_result",
          "data": {
            "text/plain": [
              "KNeighborsClassifier()"
            ]
          },
          "metadata": {},
          "execution_count": 67
        }
      ]
    },
    {
      "cell_type": "code",
      "source": [
        "knnpredictions = neigh.predict(x_test)"
      ],
      "metadata": {
        "id": "_I30YEbE75Bu"
      },
      "execution_count": 68,
      "outputs": []
    },
    {
      "cell_type": "code",
      "source": [
        "from sklearn.metrics import confusion_matrix\n",
        "knn=confusion_matrix(y_test,knnpredictions)\n",
        "plt.title('KNeighbors Classifier (Feature selection approach)')\n",
        "sns.heatmap(knn,annot=True,fmt=\"d\")"
      ],
      "metadata": {
        "colab": {
          "base_uri": "https://localhost:8080/",
          "height": 298
        },
        "id": "0sKEJbmq7_xq",
        "outputId": "f3b8c669-eb78-4699-fb64-a1a4ce9e6e27"
      },
      "execution_count": 69,
      "outputs": [
        {
          "output_type": "execute_result",
          "data": {
            "text/plain": [
              "<matplotlib.axes._subplots.AxesSubplot at 0x7f70849dc510>"
            ]
          },
          "metadata": {},
          "execution_count": 69
        },
        {
          "output_type": "display_data",
          "data": {
            "text/plain": [
              "<Figure size 432x288 with 2 Axes>"
            ],
            "image/png": "[encoded data removed]"
          },
          "metadata": {
            "needs_background": "light"
          }
        }
      ]
    },
    {
      "cell_type": "code",
      "source": [
        "print(\"matthews_corrcoef\",matthews_corrcoef(y_test, knnpredictions))\n",
        "print(\"cohen_kappa_score\",cohen_kappa_score(y_test, knnpredictions))\n",
        "print(\"hamming_loss_score\",hamming_loss(y_test, knnpredictions))\n",
        "print(\"Precision_score\", metrics.precision_score(y_test, knnpredictions))\n",
        "print(\"Pecall_score\",metrics.recall_score(y_test, knnpredictions))\n",
        "print(\"F1_score\",metrics.f1_score(y_test, knnpredictions))\n",
        "print(\"Accuracy_score\",metrics.accuracy_score(y_test, knnpredictions))\n",
        "print(\"Roc_auc_score\",metrics.roc_auc_score(y_test,knnpredictions))\n",
        "print(\"Fbeta_score\",metrics.fbeta_score(y_test, knnpredictions, beta=0.5))\n",
        "print(\"Fbeta_score\",metrics.fbeta_score(y_test, knnpredictions, beta=1))\n",
        "print(\"Fbeta_score\",metrics.fbeta_score(y_test, knnpredictions, beta=2))"
      ],
      "metadata": {
        "colab": {
          "base_uri": "https://localhost:8080/"
        },
        "id": "ncPXT2_F8eTR",
        "outputId": "d5ce65e3-f7e3-4661-b664-70bcebe83cf1"
      },
      "execution_count": 71,
      "outputs": [
        {
          "output_type": "stream",
          "name": "stdout",
          "text": [
            "matthews_corrcoef 0.6180512211050535\n",
            "cohen_kappa_score 0.6146281499692686\n",
            "hamming_loss_score 0.19298245614035087\n",
            "Precision_score 0.7741935483870968\n",
            "Pecall_score 0.8571428571428571\n",
            "F1_score 0.8135593220338982\n",
            "Accuracy_score 0.8070175438596491\n",
            "Roc_auc_score 0.8078817733990148\n",
            "Fbeta_score 0.7894736842105263\n",
            "Fbeta_score 0.8135593220338982\n",
            "Fbeta_score 0.8391608391608392\n"
          ]
        }
      ]
    },
    {
      "cell_type": "code",
      "source": [
        "from sklearn.ensemble import RandomForestClassifier\n",
        "rf = RandomForestClassifier()\n",
        "rf.fit(x_train, y_train)"
      ],
      "metadata": {
        "colab": {
          "base_uri": "https://localhost:8080/"
        },
        "id": "dxgI8ACY8gSM",
        "outputId": "6241144e-d1c0-484a-9858-5c31cb231a40"
      },
      "execution_count": 72,
      "outputs": [
        {
          "output_type": "execute_result",
          "data": {
            "text/plain": [
              "RandomForestClassifier()"
            ]
          },
          "metadata": {},
          "execution_count": 72
        }
      ]
    },
    {
      "cell_type": "code",
      "source": [
        "rfpredictions = rf.predict(x_test)"
      ],
      "metadata": {
        "id": "rD_BaNvJ8kVO"
      },
      "execution_count": 73,
      "outputs": []
    },
    {
      "cell_type": "code",
      "source": [
        "from sklearn.metrics import confusion_matrix\n",
        "rfc=confusion_matrix(y_test,rfpredictions)\n",
        "plt.title('RandomForest Classifier (Feature selection approach)')\n",
        "sns.heatmap(rfc,annot=True,fmt=\"d\")"
      ],
      "metadata": {
        "colab": {
          "base_uri": "https://localhost:8080/",
          "height": 298
        },
        "id": "sDZl-LLY8nmG",
        "outputId": "44577c68-a8b3-4f84-8597-2f558009dbcf"
      },
      "execution_count": 74,
      "outputs": [
        {
          "output_type": "execute_result",
          "data": {
            "text/plain": [
              "<matplotlib.axes._subplots.AxesSubplot at 0x7f70848ac350>"
            ]
          },
          "metadata": {},
          "execution_count": 74
        },
        {
          "output_type": "display_data",
          "data": {
            "text/plain": [
              "<Figure size 432x288 with 2 Axes>"
            ],
            "image/png": "[encoded data removed]"
          },
          "metadata": {
            "needs_background": "light"
          }
        }
      ]
    },
    {
      "cell_type": "code",
      "source": [
        "print(\"matthews_corrcoef\",matthews_corrcoef(y_test, rfpredictions))\n",
        "print(\"cohen_kappa_score\",cohen_kappa_score(y_test, rfpredictions))\n",
        "print(\"hamming_loss_score\",hamming_loss(y_test, rfpredictions))\n",
        "print(\"Precision_score\", metrics.precision_score(y_test, rfpredictions))\n",
        "print(\"Pecall_score\",metrics.recall_score(y_test, rfpredictions))\n",
        "print(\"F1_score\",metrics.f1_score(y_test, rfpredictions))\n",
        "print(\"Accuracy_score\",metrics.accuracy_score(y_test, rfpredictions))\n",
        "print(\"Roc_auc_score\",metrics.roc_auc_score(y_test,rfpredictions))\n",
        "print(\"Fbeta_score\",metrics.fbeta_score(y_test, rfpredictions, beta=0.5))\n",
        "print(\"Fbeta_score\",metrics.fbeta_score(y_test, rfpredictions, beta=1))\n",
        "print(\"Fbeta_score\",metrics.fbeta_score(y_test, rfpredictions, beta=2))"
      ],
      "metadata": {
        "colab": {
          "base_uri": "https://localhost:8080/"
        },
        "id": "AoAxn5Kj8ySd",
        "outputId": "af1b97fa-9cf9-4126-8097-35233a5fda6e"
      },
      "execution_count": 75,
      "outputs": [
        {
          "output_type": "stream",
          "name": "stdout",
          "text": [
            "matthews_corrcoef 0.8596059113300493\n",
            "cohen_kappa_score 0.8596059113300493\n",
            "hamming_loss_score 0.07017543859649122\n",
            "Precision_score 0.9285714285714286\n",
            "Pecall_score 0.9285714285714286\n",
            "F1_score 0.9285714285714286\n",
            "Accuracy_score 0.9298245614035088\n",
            "Roc_auc_score 0.9298029556650247\n",
            "Fbeta_score 0.9285714285714286\n",
            "Fbeta_score 0.9285714285714286\n",
            "Fbeta_score 0.9285714285714286\n"
          ]
        }
      ]
    },
    {
      "cell_type": "code",
      "source": [
        "from sklearn.svm import SVC\n",
        "SVM = SVC()\n",
        "SVM.fit(x_train, y_train)"
      ],
      "metadata": {
        "colab": {
          "base_uri": "https://localhost:8080/"
        },
        "id": "PDtSmGSm86g_",
        "outputId": "94cf3a17-9985-431d-fcdc-ebbb2e487542"
      },
      "execution_count": 76,
      "outputs": [
        {
          "output_type": "execute_result",
          "data": {
            "text/plain": [
              "SVC()"
            ]
          },
          "metadata": {},
          "execution_count": 76
        }
      ]
    },
    {
      "cell_type": "code",
      "source": [
        "svmpredictions = SVM.predict(x_test)"
      ],
      "metadata": {
        "id": "N2lAwtxb8_SK"
      },
      "execution_count": 77,
      "outputs": []
    },
    {
      "cell_type": "code",
      "source": [
        "from sklearn.metrics import confusion_matrix\n",
        "svm=confusion_matrix(y_test,svmpredictions)\n",
        "plt.title('SVM Classifier (Feature selection approach)')\n",
        "sns.heatmap(svm,annot=True,fmt=\"d\")"
      ],
      "metadata": {
        "colab": {
          "base_uri": "https://localhost:8080/",
          "height": 298
        },
        "id": "bXMjxGrR9BJj",
        "outputId": "f08384c5-d427-42f0-a667-6030bc294d26"
      },
      "execution_count": 78,
      "outputs": [
        {
          "output_type": "execute_result",
          "data": {
            "text/plain": [
              "<matplotlib.axes._subplots.AxesSubplot at 0x7f708484bf50>"
            ]
          },
          "metadata": {},
          "execution_count": 78
        },
        {
          "output_type": "display_data",
          "data": {
            "text/plain": [
              "<Figure size 432x288 with 2 Axes>"
            ],
            "image/png": "[encoded data removed]"
          },
          "metadata": {
            "needs_background": "light"
          }
        }
      ]
    },
    {
      "cell_type": "code",
      "source": [
        "print(\"matthews_corrcoef\",matthews_corrcoef(y_test, svmpredictions))\n",
        "print(\"cohen_kappa_score\",cohen_kappa_score(y_test, svmpredictions))\n",
        "print(\"hamming_loss_score\",hamming_loss(y_test, svmpredictions))\n",
        "print(\"Precision_score\", metrics.precision_score(y_test, svmpredictions))\n",
        "print(\"Pecall_score\",metrics.recall_score(y_test, svmpredictions))\n",
        "print(\"F1_score\",metrics.f1_score(y_test, svmpredictions))\n",
        "print(\"Accuracy_score\",metrics.accuracy_score(y_test, svmpredictions))\n",
        "print(\"Roc_auc_score\",metrics.roc_auc_score(y_test,svmpredictions))\n",
        "print(\"Fbeta_score\",metrics.fbeta_score(y_test, svmpredictions, beta=0.5))\n",
        "print(\"Fbeta_score\",metrics.fbeta_score(y_test, svmpredictions, beta=1))\n",
        "print(\"Fbeta_score\",metrics.fbeta_score(y_test, svmpredictions, beta=2))"
      ],
      "metadata": {
        "colab": {
          "base_uri": "https://localhost:8080/"
        },
        "id": "_7LqsdoV9Kd3",
        "outputId": "55231f0a-97b5-4eea-d899-8a4fc2a25cc3"
      },
      "execution_count": 80,
      "outputs": [
        {
          "output_type": "stream",
          "name": "stdout",
          "text": [
            "matthews_corrcoef 0.4959057440016278\n",
            "cohen_kappa_score 0.4921658986175116\n",
            "hamming_loss_score 0.2543859649122807\n",
            "Precision_score 0.7142857142857143\n",
            "Pecall_score 0.8035714285714286\n",
            "F1_score 0.7563025210084034\n",
            "Accuracy_score 0.7456140350877193\n",
            "Roc_auc_score 0.7466133004926109\n",
            "Fbeta_score 0.7305194805194806\n",
            "Fbeta_score 0.7563025210084034\n",
            "Fbeta_score 0.7839721254355402\n"
          ]
        }
      ]
    }
  ]
}